{
  "cells": [
    {
      "cell_type": "markdown",
      "metadata": {
        "pycharm": {}
      },
      "source": [
        "# 实验一\n",
        "自定义深度卷积申请网络，并在Kaggle猫/狗数据集上进行训练和测试"
      ]
    },
    {
      "cell_type": "markdown",
      "metadata": {
        "pycharm": {}
      },
      "source": [
        "## 1.加载keras模块"
      ]
    },
    {
      "cell_type": "code",
      "execution_count": 1,
      "metadata": {
        "pycharm": {
          "is_executing": false
        }
      },
      "outputs": [
        {
          "name": "stderr",
          "text": [
            "Using TensorFlow backend.\n"
          ],
          "output_type": "stream"
        }
      ],
      "source": [
        "#加载ImageDataGenerator模块\n",
        "import tensorflow as tf\n",
        "from tensorflow import keras\n",
        "#from tensorflow.keras import ImageDataGenerator\n",
        "from keras.preprocessing.image import ImageDataGenerator\n",
        "#加载定义CNN的layers、activate function等模块\n",
        "from tensorflow.keras.layers import *\n",
        "from tensorflow.keras.models import *\n",
        "from tensorflow.keras.optimizers import SGD,Adam,RMSprop\n",
        "from tensorflow.keras.callbacks import ReduceLROnPlateau\n",
        "#以下为将预测score转换为类别信息的to_categorical、图像预处理等函数\n",
        "from keras.utils import to_categorical\n",
        "from keras.preprocessing.image import img_to_array\n",
        "from keras.applications.vgg16 import preprocess_input\n",
        "from keras import backend as K\n",
        "import numpy as np"
      ]
    },
    {
      "cell_type": "markdown",
      "metadata": {
        "pycharm": {}
      },
      "source": [
        "### 定义CNN网络结构\n",
        "首先尝试：自定义深度CNN结构\n",
        "\n",
        "然后尝试：定义Alex/VGG网络结构\n"
      ]
    },
    {
      "cell_type": "code",
      "execution_count": 2,
      "metadata": {
        "pycharm": {
          "is_executing": false
        },
        "scrolled": true
      },
      "outputs": [
        {
          "data": {
            "text/plain": "\"\\nlearning_rate_reduction \u003d ReduceLROnPlateau(monitor\u003d\u0027val_acc\u0027, \\n                                            patience\u003d3, \\n                                            verbose\u003d1, \\n                                            factor\u003d0.5, \\n                                            min_lr\u003d0.00001)\\n\""
          },
          "metadata": {},
          "output_type": "execute_result",
          "execution_count": 2
        }
      ],
      "source": [
        "#首先定义图像的长和宽，目的是告诉网络输入图像矩阵的大小，便于搭建网络结构\n",
        "img_width \u003d 150\n",
        "img_height \u003d 150\n",
        "\n",
        "#以下为确认图像的通道分量\n",
        "if K.image_data_format() \u003d\u003d \u0027channels_first\u0027:\n",
        "    input_shape \u003d (3, img_width, img_height)\n",
        "else:\n",
        "    input_shape \u003d (img_width, img_height, 3)\n",
        "    \n",
        "#在此定义网络结构    \n",
        "model \u003d Sequential()\n",
        "model.add(Conv2D(32,kernel_size\u003d(3,3),activation \u003d \u0027relu\u0027,input_shape\u003dinput_shape))\n",
        "# input_shape \u003d ???\n",
        "# kernel_size \u003d ???    根据实验 5来看 320 \u003d\u003d32*9 +32*1  ///9 \u003d3*3 kernel——size   1 \u003d bias \n",
        "#model.add(MaxPool2D(pool_size\u003d(2,2))\n",
        "model.add(MaxPool2D(pool_size\u003d(2,2)))\n",
        "model.add(Conv2D(32,(3,3),activation \u003d \u0027relu\u0027))\n",
        "#model.add(MaxPool2D(pool_size\u003d(2,2))\n",
        "model.add(MaxPool2D(pool_size\u003d(2, 2)))\n",
        "model.add(Conv2D(64,kernel_size\u003d(3,3),activation \u003d \u0027relu\u0027))\n",
        "#model.add(MaxPool2D(pool_size\u003d(2,2))\n",
        "model.add(MaxPool2D(pool_size\u003d(2, 2)))\n",
        "model.add(Flatten())\n",
        "model.add(Dense(64,activation \u003d \u0027relu\u0027))\n",
        "\n",
        "model.add(Dropout(0.5))\n",
        "model.add(Dense(1,activation \u003d \u0027sigmoid\u0027))\n",
        "#在此调用compile函数定义loss function，optimizer和metrics\n",
        "\n",
        "\n",
        "#optimizer \u003d Adam(lr\u003d0.001, beta_1\u003d0.9, beta_2\u003d0.999, epsilon\u003dNone, decay\u003d0.0, amsgrad\u003dFalse)\n",
        "#model.compile(optimizer \u003d optimizer,loss \u003d \u0027binary_crossentropy\u0027, metrics\u003d[\"accuracy\"])\n",
        "model.compile(optimizer \u003d\u0027rmsprop\u0027,loss \u003d \u0027binary_crossentropy\u0027, metrics\u003d[\"accuracy\"])\n",
        "\u0027\u0027\u0027\n",
        "learning_rate_reduction \u003d ReduceLROnPlateau(monitor\u003d\u0027val_acc\u0027, \n",
        "                                            patience\u003d3, \n",
        "                                            verbose\u003d1, \n",
        "                                            factor\u003d0.5, \n",
        "                                            min_lr\u003d0.00001)\n",
        "\u0027\u0027\u0027"
      ]
    },
    {
      "cell_type": "markdown",
      "metadata": {
        "pycharm": {}
      },
      "source": [
        "### 查看model架构\n",
        "\n"
      ]
    },
    {
      "cell_type": "code",
      "execution_count": 3,
      "metadata": {
        "pycharm": {
          "is_executing": false
        }
      },
      "outputs": [
        {
          "name": "stdout",
          "text": [
            "Model: \"sequential\"\n_________________________________________________________________\nLayer (type)                 Output Shape              Param #   \n\u003d\u003d\u003d\u003d\u003d\u003d\u003d\u003d\u003d\u003d\u003d\u003d\u003d\u003d\u003d\u003d\u003d\u003d\u003d\u003d\u003d\u003d\u003d\u003d\u003d\u003d\u003d\u003d\u003d\u003d\u003d\u003d\u003d\u003d\u003d\u003d\u003d\u003d\u003d\u003d\u003d\u003d\u003d\u003d\u003d\u003d\u003d\u003d\u003d\u003d\u003d\u003d\u003d\u003d\u003d\u003d\u003d\u003d\u003d\u003d\u003d\u003d\u003d\u003d\u003d\nconv2d (Conv2D)              (None, 148, 148, 32)      896       \n_________________________________________________________________\nmax_pooling2d (MaxPooling2D) (None, 74, 74, 32)        0         \n_________________________________________________________________\nconv2d_1 (Conv2D)            (None, 72, 72, 32)        9248      \n_________________________________________________________________\nmax_pooling2d_1 (MaxPooling2 (None, 36, 36, 32)        0         \n_________________________________________________________________\nconv2d_2 (Conv2D)            (None, 34, 34, 64)        18496     \n_________________________________________________________________\nmax_pooling2d_2 (MaxPooling2 (None, 17, 17, 64)        0         \n_________________________________________________________________\nflatten (Flatten)            (None, 18496)             0         \n_________________________________________________________________\ndense (Dense)                (None, 64)                1183808   \n_________________________________________________________________\ndropout (Dropout)            (None, 64)                0         \n_________________________________________________________________\ndense_1 (Dense)              (None, 1)                 65        \n\u003d\u003d\u003d\u003d\u003d\u003d\u003d\u003d\u003d\u003d\u003d\u003d\u003d\u003d\u003d\u003d\u003d\u003d\u003d\u003d\u003d\u003d\u003d\u003d\u003d\u003d\u003d\u003d\u003d\u003d\u003d\u003d\u003d\u003d\u003d\u003d\u003d\u003d\u003d\u003d\u003d\u003d\u003d\u003d\u003d\u003d\u003d\u003d\u003d\u003d\u003d\u003d\u003d\u003d\u003d\u003d\u003d\u003d\u003d\u003d\u003d\u003d\u003d\u003d\u003d\nTotal params: 1,212,513\nTrainable params: 1,212,513\nNon-trainable params: 0\n_________________________________________________________________\n"
          ],
          "output_type": "stream"
        }
      ],
      "source": [
        "model.summary()"
      ]
    },
    {
      "cell_type": "markdown",
      "metadata": {
        "pycharm": {}
      },
      "source": [
        "### 定义ImageDataGenerator\n"
      ]
    },
    {
      "cell_type": "code",
      "execution_count": 51,
      "metadata": {
        "pycharm": {}
      },
      "outputs": [],
      "source": [
        "from tensorflow.keras.preprocessing import image\n",
        "#import pandas as pd\n",
        "#指定train和validation数据路径\n",
        "#train_path \u003d \u0027D:\\AI\\11.6\\dogs-vs-cats\\train\u0027\n",
        "#validation_path\u003d \u0027D:\\AI\\11.6\\dogs-vs-cats\\validation\u0027\n",
        "train_data_dir \u003d r\u0027D:\\AI\\11.6\\dogs-vs-cats\\train\u0027\n",
        "validation_data_dir \u003d r\u0027D:\\AI\\11.6\\dogs-vs-cats\\validation\u0027\n",
        "#指定train和validation数据规模\n",
        "nb_train_samples \u003d 10835\n",
        "nb_validation_samples \u003d 4000\n",
        "\n",
        "\n"
      ]
    },
    {
      "cell_type": "code",
      "execution_count": 52,
      "metadata": {
        "pycharm": {}
      },
      "outputs": [
        {
          "name": "stdout",
          "output_type": "stream",
          "text": [
            "Found 10835 images belonging to 2 classes.\n",
            "Found 4000 images belonging to 2 classes.\n"
          ]
        }
      ],
      "source": [
        "epochs \u003d 1\n",
        "batch_size \u003d 20\n",
        "\n",
        "#声明ImageDataGenerator类型的train_datagen用于对training图像进行数据像素归一化和扩增\n",
        "train_datagen\u003dImageDataGenerator(rescale\u003d1./255, shear_range\u003d0.2,zoom_range\u003d0.2,horizontal_flip\u003dTrue)\n",
        "\n",
        "#声明ImageDataGenerator类型的test_datagen用于对validation图像进行像素归一化\n",
        "test_datagen \u003d ImageDataGenerator(rescale\u003d1./255)\n",
        "#调用flow_from_directory生成train_generator\n",
        "train_generator \u003d train_datagen.flow_from_directory(train_data_dir,target_size\u003d(img_width, img_height),\n",
        "                                                    batch_size\u003dbatch_size,class_mode\u003d\u0027binary\u0027)\n",
        "#调用flow_from_directory生成validation_generator\n",
        "validation_generator \u003d test_datagen.flow_from_directory(validation_data_dir,target_size\u003d(img_width, img_height),\n",
        "                                                        batch_size\u003dbatch_size,class_mode\u003d\u0027binary\u0027)"
      ]
    },
    {
      "cell_type": "code",
      "execution_count": null,
      "metadata": {
        "pycharm": {}
      },
      "outputs": [],
      "source": []
    },
    {
      "cell_type": "markdown",
      "metadata": {
        "pycharm": {}
      },
      "source": [
        "### 训练模型\n",
        "\n"
      ]
    },
    {
      "cell_type": "code",
      "execution_count": 53,
      "metadata": {
        "pycharm": {}
      },
      "outputs": [
        {
          "name": "stdout",
          "output_type": "stream",
          "text": [
            "541/541 [\u003d\u003d\u003d\u003d\u003d\u003d\u003d\u003d\u003d\u003d\u003d\u003d\u003d\u003d\u003d\u003d\u003d\u003d\u003d\u003d\u003d\u003d\u003d\u003d\u003d\u003d\u003d\u003d\u003d\u003d] - 158s 292ms/step - loss: 0.6613 - accuracy: 0.6178 - val_loss: 0.5854 - val_accuracy: 0.6995\n"
          ]
        }
      ],
      "source": [
        "#调用并设置fit_generator函数训练模型\n",
        "#history \u003d model.fit(train_datagen,test_datagen, batch_size \u003d batch_size,\n",
        "                             #epochs \u003d epochs , validation_data \u003d (X_val,Y_val))\n",
        "history \u003d model.fit_generator(train_generator,steps_per_epoch \u003d nb_train_samples // batch_size,\n",
        "                             epochs \u003d epochs , validation_data \u003d validation_generator,validation_steps\u003dnb_validation_samples // batch_size)"
      ]
    },
    {
      "cell_type": "markdown",
      "metadata": {
        "pycharm": {}
      },
      "source": [
        "### 使用训练后模型预测图像\n",
        "\n",
        "\n",
        "\n"
      ]
    },
    {
      "cell_type": "code",
      "execution_count": 46,
      "metadata": {
        "pycharm": {}
      },
      "outputs": [],
      "source": [
        "import cv2\n"
      ]
    },
    {
      "cell_type": "code",
      "execution_count": null,
      "metadata": {
        "pycharm": {}
      },
      "outputs": [],
      "source": [
        "#调用opencv的imread函数和resize函数读取测试样本并进行尺寸缩放，此处路径可更换\n",
        "img \u003d cv2.resize(cv2.imread(r\u0027D:/AI/11.1/7.jpg\u0027), (img_width, img_height)).astype(np.float32)\n",
        "\n",
        "#对图像像素矩阵进行tensor类型转换\n",
        "x \u003d img_to_array(img)\n",
        "x \u003d np.expand_dims(x, axis\u003d0)\n",
        "#用训练好的模型对测试样本进行预测\n",
        "score \u003d model.predict(x)\n",
        "print(score)"
      ]
    },
    {
      "cell_type": "code",
      "execution_count": null,
      "metadata": {
        "pycharm": {}
      },
      "outputs": [],
      "source": []
    },
    {
      "cell_type": "code",
      "execution_count": 45,
      "metadata": {
        "pycharm": {},
        "scrolled": true
      },
      "outputs": [
        {
          "name": "stdout",
          "output_type": "stream",
          "text": [
            "541/541 [\u003d\u003d\u003d\u003d\u003d\u003d\u003d\u003d\u003d\u003d\u003d\u003d\u003d\u003d\u003d\u003d\u003d\u003d\u003d\u003d\u003d\u003d\u003d\u003d\u003d\u003d\u003d\u003d\u003d\u003d] - 209s 386ms/step - loss: 7.1607 - accuracy: 0.5330 - val_loss: 7.6666 - val_accuracy: 0.5000\n"
          ]
        }
      ],
      "source": [
        "#调用并设置fit_generator函数训练模型\n",
        "#history \u003d model.fit(train_datagen,test_datagen, batch_size \u003d batch_size,\n",
        "                             #epochs \u003d epochs , validation_data \u003d (X_val,Y_val))\n",
        "history \u003d model.fit_generator(train_generator,steps_per_epoch \u003d nb_train_samples // batch_size,\n",
        "                             epochs \u003d epochs , validation_data \u003d validation_generator,validation_steps\u003dnb_validation_samples // batch_size)"
      ]
    }
  ],
  "metadata": {
    "kernelspec": {
      "display_name": "Python 3",
      "language": "python",
      "name": "python3"
    },
    "language_info": {
      "codemirror_mode": {
        "name": "ipython",
        "version": 3
      },
      "file_extension": ".py",
      "mimetype": "text/x-python",
      "name": "python",
      "nbconvert_exporter": "python",
      "pygments_lexer": "ipython3",
      "version": "3.6.5"
    },
    "ssap_exp_config": {
      "error_alert": "Error Occurs!",
      "initial": [],
      "max_iteration": 1000,
      "recv_id": "",
      "running": [],
      "summary": [],
      "version": "1.1.1"
    }
  },
  "nbformat": 4,
  "nbformat_minor": 1
}