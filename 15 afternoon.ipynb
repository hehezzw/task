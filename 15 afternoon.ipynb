{
 "cells": [
  {
   "cell_type": "code",
   "execution_count": 1,
   "metadata": {
    "pycharm": {
     "is_executing": false
    }
   },
   "outputs": [
    {
     "name": "stdout",
     "output_type": "stream",
     "text": [
      "yuan de zhou chang= 31.41592653589793\n",
      "yuan de mian ji= 78.53981633974483\n",
      "qiu de biao mian ji= 314.1592653589793\n",
      "qiu de ti ji= 294.5243112740431\n"
     ]
    }
   ],
   "source": [
    "from math import*\n",
    "class yuan():\n",
    "    def zc(self,r):\n",
    "        c=2*pi*r\n",
    "        return c\n",
    "    def area(self,r):\n",
    "        d=r*r*pi\n",
    "        return d\n",
    "    def qb(self,r):\n",
    "        q=4*pi*r*r\n",
    "        return q\n",
    "    def qt(self,r):\n",
    "        r=(3/4)*pi*(r**3)\n",
    "        return r\n",
    "yuan=yuan()\n",
    "r=5\n",
    "print('yuan de zhou chang=',yuan.zc(r))\n",
    "print('yuan de mian ji=',yuan.area(r))\n",
    "print('qiu de biao mian ji=',yuan.qb(r))\n",
    "print('qiu de ti ji=',yuan.qt(r))\n"
   ]
  },
  {
   "cell_type": "code",
   "execution_count": 159,
   "metadata": {
    "pycharm": {}
   },
   "outputs": [
    {
     "name": "stdout",
     "output_type": "stream",
     "text": [
      "{'BOb': '(phone:131xxxx1321 e-mail:131xxxxx1232@qq.com danwei:shcool)', 'Judy': '(phone:131xxxx1611 e-mail:181xxxxx1231@qq.com danwei:shcool)', 'Anna': '(phone:186xxxx1231 e-mail:131xxxxx1421@qq.com danwei:shcool)'}\n",
      "---------- add a member\n",
      "{'BOb': '(phone:131xxxx1321 e-mail:131xxxxx1232@qq.com danwei:shcool)', 'Judy': '(phone:131xxxx1611 e-mail:181xxxxx1231@qq.com danwei:shcool)', 'Anna': '(phone:186xxxx1231 e-mail:131xxxxx1421@qq.com danwei:shcool)', 'Joker': '(phone:181xxxx1321 e-mail:131xxxxx9772@qq.com danwei:shcool)'}\n",
      "---------------\n",
      "---------- del a member\n",
      "{'BOb': '(phone:131xxxx1321 e-mail:131xxxxx1232@qq.com danwei:shcool)', 'Anna': '(phone:186xxxx1231 e-mail:131xxxxx1421@qq.com danwei:shcool)', 'Joker': '(phone:181xxxx1321 e-mail:131xxxxx9772@qq.com danwei:shcool)'}\n",
      "---------------\n",
      "---------- serach a member\n",
      "(phone:186xxxx1231 e-mail:131xxxxx1421@qq.com danwei:shcool)\n",
      "all data\n",
      "{'BOb': '(phone:131xxxx1321 e-mail:131xxxxx1232@qq.com danwei:shcool)', 'Anna': '(phone:186xxxx1231 e-mail:131xxxxx1421@qq.com danwei:shcool)', 'Joker': '(phone:181xxxx1321 e-mail:131xxxxx9772@qq.com danwei:shcool)'}\n",
      "---------------\n",
      "BOb (phone:131xxxx1321 e-mail:131xxxxx1232@qq.com danwei:shcool)\n",
      "Anna (phone:186xxxx1231 e-mail:131xxxxx1421@qq.com danwei:shcool)\n",
      "Joker (phone:181xxxx1321 e-mail:131xxxxx9772@qq.com danwei:shcool)\n"
     ]
    }
   ],
   "source": [
    "dict_data={'BOb':'(phone:131xxxx1321 e-mail:131xxxxx1232@qq.com danwei:shcool)',\n",
    "           'Judy':'(phone:131xxxx1611 e-mail:181xxxxx1231@qq.com danwei:shcool)',\n",
    "           'Anna':'(phone:186xxxx1231 e-mail:131xxxxx1421@qq.com danwei:shcool)'}\n",
    "print(dict_data)\n",
    "print('-'*10,'add a member')\n",
    "dict_data['Joker']='(phone:181xxxx1321 e-mail:131xxxxx9772@qq.com danwei:shcool)'\n",
    "print(dict_data)\n",
    "print('-'*15)\n",
    "print('-'*10,'del a member')\n",
    "dict_data.pop('Judy')\n",
    "print(dict_data)\n",
    "print('-'*15)\n",
    "print('-'*10,'serach a member')\n",
    "print(dict_data['Anna'])\n",
    "print('all data')\n",
    "print(dict_data)\n",
    "print('-'*15)\n",
    "for k,v in dict_data.items():\n",
    "    print(k,v)"
   ]
  },
  {
   "cell_type": "code",
   "execution_count": 4,
   "metadata": {
    "pycharm": {}
   },
   "outputs": [
    {
     "name": "stdout",
     "output_type": "stream",
     "text": [
      "pleas choice your type of wendu!\n",
      "            if you want sheshidu input 1,\n",
      "            or you want huashidu input 2:\n",
      "you choose was error\n",
      "check the any keys over the progaess\n"
     ]
    }
   ],
   "source": [
    "def trans(t):\n",
    "    hs=t*1.8+32\n",
    "    return hs\n",
    "def trans_hs(h):\n",
    "    ss=(h-32)/1.8\n",
    "    return ss\n",
    "while True:\n",
    "    a=input('''pleas choice your type of wendu!\n",
    "            if you want sheshidu input 1,\n",
    "            or you want huashidu input 2:''')\n",
    "    if a==1:\n",
    "        h=int(input('please input local huashidu:'))\n",
    "        print(trans_hs(h),'huashisdu')\n",
    "    elif a==2:\n",
    "        t=int(input('please input local sheshidu:'))\n",
    "        print(trans(t),'sheshidu')\n",
    "    else:\n",
    "        print('you choose was error')\n",
    "        input('check the any keys over the progaess')\n",
    "        break"
   ]
  },
  {
   "cell_type": "code",
   "execution_count": 17,
   "metadata": {
    "pycharm": {}
   },
   "outputs": [],
   "source": [
    "#from random import*\n",
    "import random\n",
    "i=0\n",
    "n=[]\n",
    "#for i in (1,100001):\n",
    "f=open('/home/a580/Desktop/task1.txt','w')\n",
    "while i<100001:\n",
    "    a=random.randint(1,100)\n",
    "    a=str(a)\n",
    "    #print(a,'\\n')\n",
    "    #n.append(a)\n",
    "    i+=1\n",
    "    #f=open('/home/a580/Desktop/task1.txt','w')\n",
    "    f.writelines(a+'\\n')\n",
    "    #f.close()\n",
    "#print (n)\n",
    "#f=open('/home/a580/Desktop/task1.txt','w')\n",
    "#f.writelines(str(n)+'\\n')\n",
    "f.close()"
   ]
  },
  {
   "cell_type": "code",
   "execution_count": null,
   "metadata": {
    "pycharm": {}
   },
   "outputs": [],
   "source": []
  },
  {
   "cell_type": "code",
   "execution_count": 32,
   "metadata": {
    "pycharm": {}
   },
   "outputs": [
    {
     "name": "stdout",
     "output_type": "stream",
     "text": [
      "di 1 hang: \n",
      " di 2 hang:             hallo guys im so happy!\n",
      " di 3 hang:             but why are you so long time no to see me?\n",
      " di 4 hang:             im was wait for 400 years!!\n",
      " di 5 hang:             anyway,now you coming,\n",
      " di 6 hang:             And you will play with my forever,Right!\n",
      " di 7 hang:              "
     ]
    },
    {
     "ename": "TypeError",
     "evalue": "'NoneType' object does not support item deletion",
     "output_type": "error",
     "traceback": [
      "\u001b[0;31m---------------------------------------------------------------------------\u001b[0m",
      "\u001b[0;31mTypeError\u001b[0m                                 Traceback (most recent call last)",
      "\u001b[0;32m<ipython-input-32-9106382851f6>\u001b[0m in \u001b[0;36m<module>\u001b[0;34m\u001b[0m\n\u001b[1;32m     19\u001b[0m \u001b[0mf\u001b[0m\u001b[0;34m.\u001b[0m\u001b[0mclose\u001b[0m\u001b[0;34m(\u001b[0m\u001b[0;34m)\u001b[0m\u001b[0;34m\u001b[0m\u001b[0;34m\u001b[0m\u001b[0m\n\u001b[1;32m     20\u001b[0m \u001b[0mlist\u001b[0m\u001b[0;34m=\u001b[0m\u001b[0mlist\u001b[0m\u001b[0;34m.\u001b[0m\u001b[0mpop\u001b[0m\u001b[0;34m(\u001b[0m\u001b[0;34m)\u001b[0m\u001b[0;34m\u001b[0m\u001b[0;34m\u001b[0m\u001b[0m\n\u001b[0;32m---> 21\u001b[0;31m \u001b[0;32mdel\u001b[0m \u001b[0mlist\u001b[0m\u001b[0;34m[\u001b[0m\u001b[0;36m6\u001b[0m\u001b[0;34m:\u001b[0m\u001b[0;36m6\u001b[0m\u001b[0;34m]\u001b[0m\u001b[0;34m\u001b[0m\u001b[0;34m\u001b[0m\u001b[0m\n\u001b[0m\u001b[1;32m     22\u001b[0m \u001b[0mprint\u001b[0m\u001b[0;34m(\u001b[0m\u001b[0mlist\u001b[0m\u001b[0;34m)\u001b[0m\u001b[0;34m\u001b[0m\u001b[0;34m\u001b[0m\u001b[0m\n\u001b[1;32m     23\u001b[0m \u001b[0;34m\u001b[0m\u001b[0m\n",
      "\u001b[0;31mTypeError\u001b[0m: 'NoneType' object does not support item deletion"
     ]
    }
   ],
   "source": [
    "#import re\n",
    "f=open('/home/a580/Desktop/read.txt','w')\n",
    "f.write('''\n",
    "            hallo guys im so happy!\n",
    "            but why are you so long time no to see me?\n",
    "            im was wait for 400 years!!\n",
    "            anyway,now you coming,\n",
    "            And you will play with my forever,Right!''')\n",
    "\n",
    "f.close()\n",
    "f=open('/home/a580/Desktop/read.txt','r')\n",
    "a=1\n",
    "list=[]\n",
    "for line in f:# i'm not sure about the function \n",
    "    txt=print('di',a,'hang:',line,end=' ')\n",
    "    a+=1\n",
    "    list.append(txt)\n",
    "f.close()\n",
    "list=list.pop()\n",
    "print(list)\n",
    "    "
   ]
  },
  {
   "cell_type": "code",
   "execution_count": 45,
   "metadata": {
    "pycharm": {}
   },
   "outputs": [
    {
     "name": "stdout",
     "output_type": "stream",
     "text": [
      "input two number the frist:s\n",
      "be care ,we just need a number\n"
     ]
    }
   ],
   "source": [
    "try:\n",
    "    a=int(input('input two number the frist:'))\n",
    "    b=int(input('the secord:'))\n",
    "    c=a+b\n",
    "    print(c)\n",
    "except ValueError:\n",
    "    print('be care ,we just need a number')"
   ]
  },
  {
   "cell_type": "code",
   "execution_count": 18,
   "metadata": {
    "pycharm": {}
   },
   "outputs": [
    {
     "name": "stdout",
     "output_type": "stream",
     "text": [
      "156\n"
     ]
    }
   ],
   "source": [
    "for n in range(1,1000):\n",
    "    for i in range(1,100):\n",
    "        if n+100==i*i:\n",
    "            for y in range(1,100):\n",
    "                if n+168==y*y:\n",
    "                    print(n)\n",
    "                    break\n",
    "                else:\n",
    "                    continue\n",
    "        else:\n",
    "            continue\n",
    "                "
   ]
  },
  {
   "cell_type": "code",
   "execution_count": 42,
   "metadata": {
    "pycharm": {}
   },
   "outputs": [
    {
     "name": "stdout",
     "output_type": "stream",
     "text": [
      "[[1. 0. 0. 0.]\n",
      " [0. 1. 0. 0.]\n",
      " [0. 0. 1. 0.]\n",
      " [0. 0. 0. 1.]]\n",
      "--------------------\n"
     ]
    },
    {
     "data": {
      "text/plain": [
       "array([[1., 0., 0., 0.],\n",
       "       [0., 1., 0., 0.],\n",
       "       [0., 0., 1., 0.],\n",
       "       [0., 0., 0., 1.]])"
      ]
     },
     "execution_count": 42,
     "metadata": {},
     "output_type": "execute_result"
    }
   ],
   "source": [
    "#from numpy import*\n",
    "import numpy\n",
    "eye(4)\n",
    "'''array([[1.,0.,0.,0.],\n",
    "      [0.,1.,0.,0.],\n",
    "      [0.,0.,1.,0.],\n",
    "      [0.,0.,0.,1.]])'''\n",
    "print(eye(4))\n",
    "print('-'*20)\n",
    "eye(4)"
   ]
  },
  {
   "cell_type": "code",
   "execution_count": 46,
   "metadata": {
    "pycharm": {}
   },
   "outputs": [
    {
     "name": "stdout",
     "output_type": "stream",
     "text": [
      "[1 2 3]\n",
      "[[1 2]\n",
      " [3 4]]\n",
      "[['1' '2']\n",
      " ['s' '42']]\n",
      "(2, 2)\n"
     ]
    }
   ],
   "source": [
    "\n",
    "a=array([1,2,3])\n",
    "print(a)\n",
    "b=array([[1,2],[3,4]])\n",
    "print(b)\n",
    "c=array([[1,2],['s','42']])\n",
    "print(c)\n",
    "d=c.shape\n",
    "print(d)"
   ]
  },
  {
   "cell_type": "code",
   "execution_count": 60,
   "metadata": {
    "pycharm": {}
   },
   "outputs": [
    {
     "name": "stdout",
     "output_type": "stream",
     "text": [
      "wqe\n",
      "\n"
     ]
    }
   ],
   "source": [
    "st1,st2,st3='','wqe','three'# if the can satisifity the stop standander,so the '' and 'wqe',not show the '',show the \n",
    "#wqe and stop\n",
    "nou=st1 or st2 or st3\n",
    "nou1=st1 and st2 and st3\n",
    "print(nou)\n",
    "print(nou1)"
   ]
  },
  {
   "cell_type": "code",
   "execution_count": 79,
   "metadata": {
    "pycharm": {}
   },
   "outputs": [
    {
     "name": "stdout",
     "output_type": "stream",
     "text": [
      "[0 1 2 3 4 5 6 7 8 9]\n",
      "[2 4 6]\n",
      "2\n",
      "[0 1]\n",
      "[0 1 2 3 4 5 6 7 8 9]\n",
      "[9 8 7 6 5 4 3 2 1 0]\n",
      "[0 1 2 3 4 5 6 7 8 9]\n"
     ]
    }
   ],
   "source": [
    "'''\n",
    "numpy.zeros(spape,dtype=,order)\n",
    "numpy.ones(spape,dtype=,order)\n",
    "numpy.empty(spape,dtype=,order)\n",
    "numpy.array([[1,2],[3,4]])\n",
    "numpy.asarray(a,dtype=,order)\n",
    "numpy.arange(start,stop,step.dtype) --meanwhile in arange if just had a number the maines is the stop number and \n",
    "first is start=0\n",
    "'''\n",
    "'''\n",
    "a=ones((2,2),dtype=int)\n",
    "print(a)\n",
    "print('---------------------------------')\n",
    "b=ones((4,4))\n",
    "print(b)\n",
    "print('---------------------------------')\n",
    "c=ones((5,4))#in stape  ()==[]\n",
    "print(c)\n",
    "print('---------------------------------')\n",
    "x=[1,2,3]\n",
    "y=(3,4,5)\n",
    "z=[[6,7],[8,9],[10,11]]\n",
    "d=asarray(x)\n",
    "e=asarray(y)\n",
    "f=asarray(z)\n",
    "print(d)\n",
    "print('---------------------------------')\n",
    "print(e)\n",
    "print(z)\n",
    "'''\n",
    "h=arange(0,10,dtype=int)\n",
    "i=h[2:7:2]\n",
    "j=h[2]\n",
    "g=h[:2]\n",
    "k=h[::]\n",
    "l=h[::-1]\n",
    "o=h[:]\n",
    "print(h)\n",
    "print(i)\n",
    "print(j)\n",
    "print(g)\n",
    "print(k)\n",
    "print(l)\n",
    "print(o)"
   ]
  },
  {
   "cell_type": "code",
   "execution_count": 109,
   "metadata": {
    "pycharm": {}
   },
   "outputs": [
    {
     "name": "stdout",
     "output_type": "stream",
     "text": [
      "--------------------\n",
      "[[   0    0    0]\n",
      " [  10   10   10]\n",
      " [  20   20   20]\n",
      " [  30   30   30]\n",
      " [   1    1    1]\n",
      " [ 101  101  101]\n",
      " [ 201  201  201]\n",
      " [ 301  301  301]\n",
      " [  12   12   12]\n",
      " [1021 1012 1021]\n",
      " [2021 2201 2201]\n",
      " [3021 3021 3012]]\n",
      "--------------------\n",
      "[[   0    0    0    1    1    1   12   12   12]\n",
      " [  10   10   10  101  101  101 1021 1012 1021]\n",
      " [  20   20   20  201  201  201 2021 2201 2201]\n",
      " [  30   30   30  301  301  301 3021 3021 3012]]\n",
      "--------------------\n"
     ]
    },
    {
     "ename": "AxisError",
     "evalue": "axis 2 is out of bounds for array of dimension 2",
     "output_type": "error",
     "traceback": [
      "\u001b[0;31m---------------------------------------------------------------------------\u001b[0m",
      "\u001b[0;31mAxisError\u001b[0m                                 Traceback (most recent call last)",
      "\u001b[0;32m<ipython-input-109-a3795215510d>\u001b[0m in \u001b[0;36m<module>\u001b[0;34m\u001b[0m\n\u001b[1;32m     25\u001b[0m \u001b[0mprint\u001b[0m\u001b[0;34m(\u001b[0m\u001b[0mconcatenate\u001b[0m\u001b[0;34m(\u001b[0m\u001b[0;34m(\u001b[0m\u001b[0ma\u001b[0m\u001b[0;34m,\u001b[0m\u001b[0mb\u001b[0m\u001b[0;34m,\u001b[0m\u001b[0mc\u001b[0m\u001b[0;34m)\u001b[0m\u001b[0;34m,\u001b[0m\u001b[0maxis\u001b[0m\u001b[0;34m=\u001b[0m\u001b[0;36m1\u001b[0m\u001b[0;34m)\u001b[0m\u001b[0;34m)\u001b[0m\u001b[0;34m\u001b[0m\u001b[0;34m\u001b[0m\u001b[0m\n\u001b[1;32m     26\u001b[0m \u001b[0mprint\u001b[0m\u001b[0;34m(\u001b[0m\u001b[0;34m'-'\u001b[0m\u001b[0;34m*\u001b[0m\u001b[0;36m20\u001b[0m\u001b[0;34m)\u001b[0m\u001b[0;34m\u001b[0m\u001b[0;34m\u001b[0m\u001b[0m\n\u001b[0;32m---> 27\u001b[0;31m \u001b[0mprint\u001b[0m\u001b[0;34m(\u001b[0m\u001b[0mconcatenate\u001b[0m\u001b[0;34m(\u001b[0m\u001b[0;34m(\u001b[0m\u001b[0ma\u001b[0m\u001b[0;34m,\u001b[0m\u001b[0mb\u001b[0m\u001b[0;34m,\u001b[0m\u001b[0mc\u001b[0m\u001b[0;34m)\u001b[0m\u001b[0;34m,\u001b[0m\u001b[0maxis\u001b[0m\u001b[0;34m=\u001b[0m\u001b[0;36m2\u001b[0m\u001b[0;34m)\u001b[0m\u001b[0;34m)\u001b[0m\u001b[0;34m\u001b[0m\u001b[0;34m\u001b[0m\u001b[0m\n\u001b[0m",
      "\u001b[0;31mAxisError\u001b[0m: axis 2 is out of bounds for array of dimension 2"
     ]
    }
   ],
   "source": [
    "'''a=array([[1,2,3],[4,5,6],[7,8,9],[10,11,12,]])\n",
    "print(a)\n",
    "print('-'*30)\n",
    "print(a[3:])\n",
    "print('-'*30)\n",
    "print(a[0::2])'''\n",
    "a=array([[0,0,0]\n",
    "         ,[10,10,10]\n",
    "         ,[20,20,20]\n",
    "         ,[30,30,30] \n",
    "        ])\n",
    "b=array([[1,1,1]\n",
    "         ,[101,101,101]\n",
    "         ,[201,201,201]\n",
    "         ,[301,301,301] \n",
    "        ])\n",
    "c=array([[12,12,12]\n",
    "         ,[1021,1012,1021]\n",
    "         ,[2021,2201,2201]\n",
    "         ,[3021,3021,3012] \n",
    "        ])\n",
    "print('-'*20)\n",
    "print(concatenate((a,b,c)))\n",
    "print('-'*20)\n",
    "print(concatenate((a,b,c),axis=1))# whether when the axis=0,a--b--c\n",
    "#when axis=1,a[0:n]--b[0:n]--c[0:n] n+=1\n",
    "\n"
   ]
  },
  {
   "cell_type": "code",
   "execution_count": 158,
   "metadata": {
    "pycharm": {}
   },
   "outputs": [
    {
     "name": "stdout",
     "output_type": "stream",
     "text": [
      "orgianl :\n",
      "[[0 1]\n",
      " [2 3]\n",
      " [4 5]\n",
      " [6 7]]\n",
      "\n",
      "\n",
      "open:\n",
      "[0 1 2 3 4 5 6 7]\n",
      "\n",
      "\n",
      "********************\n",
      "use way of F;\n",
      "[0 2 4 6 1 3 5 7]\n",
      "********************\n",
      "use way of C;\n",
      "[0 1 2 3 4 5 6 7]\n",
      "********************\n",
      "a be change;\n",
      "[[0 2 4 6]\n",
      " [1 3 5 7]]\n",
      "[[0 1 2 3]\n",
      " [4 5 6 7]]\n",
      "********************\n",
      "a be turn back;\n"
     ]
    },
    {
     "ename": "TypeError",
     "evalue": "'numpy.flatiter' object is not callable",
     "output_type": "error",
     "traceback": [
      "\u001b[0;31m---------------------------------------------------------------------------\u001b[0m",
      "\u001b[0;31mTypeError\u001b[0m                                 Traceback (most recent call last)",
      "\u001b[0;32m<ipython-input-158-4e4eaeaab9d3>\u001b[0m in \u001b[0;36m<module>\u001b[0;34m\u001b[0m\n\u001b[1;32m     26\u001b[0m \u001b[0mprint\u001b[0m\u001b[0;34m(\u001b[0m\u001b[0;34m'*'\u001b[0m\u001b[0;34m*\u001b[0m\u001b[0;36m20\u001b[0m\u001b[0;34m)\u001b[0m\u001b[0;34m\u001b[0m\u001b[0;34m\u001b[0m\u001b[0m\n\u001b[1;32m     27\u001b[0m \u001b[0mprint\u001b[0m\u001b[0;34m(\u001b[0m\u001b[0;34m'a be turn back;'\u001b[0m\u001b[0;34m)\u001b[0m\u001b[0;34m\u001b[0m\u001b[0;34m\u001b[0m\u001b[0m\n\u001b[0;32m---> 28\u001b[0;31m \u001b[0mc\u001b[0m\u001b[0;34m=\u001b[0m\u001b[0marange\u001b[0m\u001b[0;34m(\u001b[0m\u001b[0;36m8\u001b[0m\u001b[0;34m)\u001b[0m\u001b[0;34m.\u001b[0m\u001b[0mflat\u001b[0m\u001b[0;34m(\u001b[0m\u001b[0mlist\u001b[0m\u001b[0;34m)\u001b[0m\u001b[0;34m\u001b[0m\u001b[0;34m\u001b[0m\u001b[0m\n\u001b[0m\u001b[1;32m     29\u001b[0m \u001b[0mprint\u001b[0m\u001b[0;34m(\u001b[0m\u001b[0mc\u001b[0m\u001b[0;34m)\u001b[0m\u001b[0;34m\u001b[0m\u001b[0;34m\u001b[0m\u001b[0m\n\u001b[1;32m     30\u001b[0m \u001b[0mprint\u001b[0m\u001b[0;34m(\u001b[0m\u001b[0;34m'*'\u001b[0m\u001b[0;34m*\u001b[0m\u001b[0;36m20\u001b[0m\u001b[0;34m)\u001b[0m\u001b[0;34m\u001b[0m\u001b[0;34m\u001b[0m\u001b[0m\n",
      "\u001b[0;31mTypeError\u001b[0m: 'numpy.flatiter' object is not callable"
     ]
    }
   ],
   "source": [
    "'''a=array([[1,2,3],[4,5,6],[7,8,9],[10,11,12,]])\n",
    "print(a)\n",
    "\n",
    "reshape\n",
    "flat \n",
    "flatten\n",
    "'''\n",
    "a=arange(8).reshape(4,2)\n",
    "print('orgianl :')\n",
    "print(a)\n",
    "print('\\n')\n",
    "print('open:')\n",
    "print(a.flatten())\n",
    "print('\\n')\n",
    "print('*'*20)\n",
    "print('use way of F;')\n",
    "print(a.flatten(order='f'))\n",
    "print('*'*20)\n",
    "print('use way of C;')\n",
    "print(a.flatten(order='C'))\n",
    "print('*'*20)\n",
    "print('a be change;')\n",
    "print(transpose(a))\n",
    "b=arange(8).reshape(2,4)\n",
    "print(b)\n",
    "print('*'*20)\n",
    "print('a be turn back;')\n",
    "c=arange(8).flat(list)\n",
    "print(c)\n",
    "print('*'*20)\n",
    "print('a be turn back;')\n",
    "\n"
   ]
  },
  {
   "cell_type": "code",
   "execution_count": 101,
   "metadata": {
    "pycharm": {}
   },
   "outputs": [
    {
     "name": "stdout",
     "output_type": "stream",
     "text": [
      "No Python documentation found for 'rollaxis'.\n",
      "Use help() to get the interactive help utility.\n",
      "Use help(str) for help on the str class.\n",
      "\n"
     ]
    }
   ],
   "source": [
    "help('rollaxis')"
   ]
  },
  {
   "cell_type": "code",
   "execution_count": 110,
   "metadata": {
    "pycharm": {}
   },
   "outputs": [
    {
     "name": "stdout",
     "output_type": "stream",
     "text": [
      "--------------------\n",
      "[[   0    0    0]\n",
      " [  10   10   10]\n",
      " [  20   20   20]\n",
      " [  30   30   30]\n",
      " [   1    1    1]\n",
      " [ 101  101  101]\n",
      " [ 201  201  201]\n",
      " [ 301  301  301]\n",
      " [  12   12   12]\n",
      " [1021 1012 1021]\n",
      " [2021 2201 2201]\n",
      " [3021 3021 3012]]\n",
      "--------------------\n",
      "[[   0    0    0    1    1    1   12   12   12]\n",
      " [  10   10   10  101  101  101 1021 1012 1021]\n",
      " [  20   20   20  201  201  201 2021 2201 2201]\n",
      " [  30   30   30  301  301  301 3021 3021 3012]]\n"
     ]
    }
   ],
   "source": [
    "a=array([[0,0,0]\n",
    "         ,[10,10,10]\n",
    "         ,[20,20,20]\n",
    "         ,[30,30,30] \n",
    "        ])\n",
    "b=array([[1,1,1]\n",
    "         ,[101,101,101]\n",
    "         ,[201,201,201]\n",
    "         ,[301,301,301] \n",
    "        ])\n",
    "c=array([[12,12,12]\n",
    "         ,[1021,1012,1021]\n",
    "         ,[2021,2201,2201]\n",
    "         ,[3021,3021,3012] \n",
    "        ])\n",
    "print('-'*20)\n",
    "print(concatenate((a,b,c)))\n",
    "print('-'*20)\n",
    "print(concatenate((a,b,c),axis=1))# whether when the axis=0,a--b--c\n",
    "#when axis=1,a[0:n]--b[0:n]--c[0:n] n+=1 or said 0 was henzhou 1 was zhongzhou"
   ]
  },
  {
   "cell_type": "code",
   "execution_count": 134,
   "metadata": {
    "pycharm": {}
   },
   "outputs": [
    {
     "name": "stdout",
     "output_type": "stream",
     "text": [
      "[[ 1.  2.  3.  4.]\n",
      " [ 5.  6.  7.  8.]\n",
      " [ 9. 10. 11. 12.]]\n",
      "[10 20 30 40]\n",
      "[[11. 22. 33. 44.]\n",
      " [15. 26. 37. 48.]\n",
      " [19. 30. 41. 52.]]\n",
      "[[ 9. 18. 27. 36.]\n",
      " [ 5. 14. 23. 32.]\n",
      " [ 1. 10. 19. 28.]]\n",
      "[[ 10.  40.  90. 160.]\n",
      " [ 50. 120. 210. 320.]\n",
      " [ 90. 200. 330. 480.]]\n",
      "[[10.         10.         10.         10.        ]\n",
      " [ 2.          3.33333333  4.28571429  5.        ]\n",
      " [ 1.11111111  2.          2.72727273  3.33333333]]\n"
     ]
    }
   ],
   "source": [
    "#a=array([0,30,45,60,90])\n",
    "#print(sin(a*pi/180))\n",
    "#print(tan(a*pi/180))\n",
    "#print(cos(a*pi/180))\n",
    "'''b=array([1.0,5.55,123,0.567,25.532,-1])\n",
    "print(b)\n",
    "print(around(b))\n",
    "print(around(b,decimals = 1))\n",
    "print(around(b,decimals = 2))\n",
    "print(around(b,decimals = -1))\n",
    "print(floor(b))\n",
    "print(ceil(b))\n",
    "#print(ceil(b,decimals = 1))\n",
    "'''\n",
    "a=arange(1,13,dtype=float).reshape(3,4)\n",
    "print(a)\n",
    "#b=array([[10,11,12],\n",
    "       #[20,21,22],\n",
    "      # [30,31,32]])\n",
    "b=array([10,20,30,40])\n",
    "print(b)\n",
    "'''print(add(a,b))\n",
    "print(subtract(a,b))\n",
    "print(multiply(a,b))\n",
    "print(divide(a,b))\n",
    "'''\n",
    "print(add(b,a))\n",
    "print(subtract(b,a))\n",
    "print(multiply(b,a))\n",
    "print(divide(b,a))"
   ]
  },
  {
   "cell_type": "code",
   "execution_count": 141,
   "metadata": {
    "pycharm": {}
   },
   "outputs": [
    {
     "name": "stdout",
     "output_type": "stream",
     "text": [
      "[[80 95 10]\n",
      " [30 65 70]\n",
      " [50 90 60]]\n",
      "--------------------\n",
      "65.0\n",
      "--------------------\n",
      "[50. 90. 60.]\n",
      "--------------------\n",
      "[80. 65. 60.]\n"
     ]
    }
   ],
   "source": [
    "a=array([[80,95,10],[30,65,70],[50,90,60]])\n",
    "print(a)\n",
    "print('-'*20)\n",
    "print(median(a))\n",
    "print('-'*20)\n",
    "print(median(a,axis=0))\n",
    "print('-'*20)\n",
    "print(median(a,axis=1)) #  when a[0.2] =10  -->70 "
   ]
  },
  {
   "cell_type": "code",
   "execution_count": null,
   "metadata": {
    "pycharm": {}
   },
   "outputs": [],
   "source": [
    "'''\n",
    "numpy.zeros(spape,dtype=,order)\n",
    "numpy.ones(spape,dtype=,order)\n",
    "numpy.empty(spape,dtype=,order)\n",
    "numpy.array([[1,2],[3,4]])\n",
    "numpy.asarray(a,dtype=,order)\n",
    "numpy.arange(start,stop,step.dtype) --meanwhile in arange if just had a number the maines is the stop number and \n",
    "first is start=0\n",
    "\n",
    "print(concatenate((a,b,c),axis=1))# whether when the axis=0,a--b--c\n",
    "#when axis=1,a[0:n]--b[0:n]--c[0:n] n+=1 or said 0 was henzhou 1 was zhongzhou\n",
    "print(concatenate((a,b,c),axis=1))# whether when the axis=0,a--b--c\n",
    "#when axis=1,a[0:n]--b[0:n]--c[0:n] n+=1\n",
    "'''\n",
    "\n",
    "'''\n",
    " in median ,\n",
    "'''\n"
   ]
  },
  {
   "cell_type": "code",
   "execution_count": 144,
   "metadata": {
    "pycharm": {}
   },
   "outputs": [
    {
     "data": {
      "image/png": "[encoded data removed]",
      "text/plain": [
       "<Figure size 432x288 with 1 Axes>"
      ]
     },
     "metadata": {
      "needs_background": "light"
     },
     "output_type": "display_data"
    }
   ],
   "source": [
    "import numpy\n",
    "from matplotlib import pyplot\n",
    "x=arange(1,11)\n",
    "y=2 * x + 5\n",
    "pyplot.title('demo')\n",
    "pyplot.xlabel('x axis')\n",
    "pyplot.ylabel('y axis')\n",
    "pyplot.plot(x,y)\n",
    "pyplot.show()"
   ]
  },
  {
   "cell_type": "code",
   "execution_count": 151,
   "metadata": {
    "pycharm": {}
   },
   "outputs": [
    {
     "name": "stdout",
     "output_type": "stream",
     "text": [
      "[ 10  20 320]\n"
     ]
    }
   ],
   "source": [
    "'''a=([\n",
    "    [1,2,3],\n",
    "    [4,5,6]\n",
    "    ])\n",
    "    '''\n",
    "t=numpy.asarray([10,20,320])\n",
    "print(t)\n"
   ]
  },
  {
   "cell_type": "code",
   "execution_count": null,
   "metadata": {
    "pycharm": {}
   },
   "outputs": [],
   "source": []
  }
 ],
 "metadata": {
  "kernelspec": {
   "display_name": "Python 3",
   "language": "python",
   "name": "python3"
  },
  "language_info": {
   "codemirror_mode": {
    "name": "ipython",
    "version": 3
   },
   "file_extension": ".py",
   "mimetype": "text/x-python",
   "name": "python",
   "nbconvert_exporter": "python",
   "pygments_lexer": "ipython3",
   "version": "3.6.5"
  }
 },
 "nbformat": 4,
 "nbformat_minor": 2
}
