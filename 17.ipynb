{
 "cells": [
  {
   "cell_type": "code",
   "execution_count": 16,
   "metadata": {},
   "outputs": [
    {
     "data": {
      "image/png": "[encoded data removed]",
      "text/plain": [
       "<Figure size 432x288 with 1 Axes>"
      ]
     },
     "metadata": {
      "needs_background": "light"
     },
     "output_type": "display_data"
    }
   ],
   "source": [
    "from numpy import*\n",
    "#from matplotlib import*\n",
    "#import matplotlib as plt\n",
    "from matplotlib import pyplot as plt\n",
    "x=arange(-10,10)\n",
    "y=2*x\n",
    "y1=-x + 3\n",
    "'''\n",
    "pyplot.figure()\n",
    "pyplot.plot(x,y)\n",
    "pyplot.plot(x,y1)\n",
    "pyplot.xlim(0,3)\n",
    "pyplot.ylim(0,3)\n",
    "\n",
    "pyplot.axvline(x=0,color='grey')\n",
    "pyplot.axhline(y=0,color='blue')\n",
    "pyplot.show()\n",
    "pyplot.close()\n",
    "'''\n",
    "'''\n",
    "pyplot.title('demo')\n",
    "pyplot.xlabel('x axis')\n",
    "pyplot.ylabel('y axis')\n",
    "pyplot.plot(x,y)\n",
    "pyplot.show()\n",
    "'''\n",
    "plt.figure()\n",
    "plt.plot(x,y)\n",
    "plt.plot(x,y1)\n",
    "plt.xlim(0,3)\n",
    "plt.ylim(0,3)\n",
    "\n",
    "plt.axvline(x=0,color='grey')\n",
    "plt.axhline(y=0,color='grey')\n",
    "plt.show()\n",
    "plt.close()\n"
   ]
  },
  {
   "cell_type": "code",
   "execution_count": 61,
   "metadata": {},
   "outputs": [
    {
     "data": {
      "image/png": "[encoded data removed]",
      "text/plain": [
       "<Figure size 432x288 with 1 Axes>"
      ]
     },
     "metadata": {
      "needs_background": "light"
     },
     "output_type": "display_data"
    }
   ],
   "source": [
    "from numpy import*\n",
    "from matplotlib import*\n",
    "\n",
    "#import matplotlib as plt\n",
    "#from matplotlib import pyplot as plt\n",
    "x=arange(-10,10)\n",
    "y=2*x\n",
    "y1=-x + 3\n",
    "pyplot.figure()\n",
    "pyplot.plot(x,y)\n",
    "pyplot.plot(x,y1)\n",
    "pyplot.xlim(0,3)\n",
    "pyplot.ylim(0,3)\n",
    "\n",
    "pyplot.axvline(x=0,color='grey')\n",
    "pyplot.axhline(y=0,color='blue')\n",
    "pyplot.show()\n",
    "pyplot.close()"
   ]
  },
  {
   "cell_type": "code",
   "execution_count": 22,
   "metadata": {},
   "outputs": [
    {
     "name": "stdout",
     "output_type": "stream",
     "text": [
      "[[1 3 5]\n",
      " [2 4 6]]\n",
      "[[1 3 5]\n",
      " [2 4 6]]\n"
     ]
    }
   ],
   "source": [
    "a=np.array([[1,2],[3,4],[5,6]])\n",
    "a_t=a.T\n",
    "print(a_t)\n",
    "a_trans=a.transpose()\n",
    "print(a_trans)"
   ]
  },
  {
   "cell_type": "code",
   "execution_count": 48,
   "metadata": {},
   "outputs": [
    {
     "name": "stdout",
     "output_type": "stream",
     "text": [
      "[[11 12 13]\n",
      " [14 15 16]\n",
      " [17 18 19]]\n",
      "[[31]\n",
      " [43]\n",
      " [56]]\n",
      "--------------------\n",
      "[[451 504 559]\n",
      " [574 630 688]\n",
      " [697 756 817]]\n",
      "[[ 341  372  403]\n",
      " [ 602  645  688]\n",
      " [ 952 1008 1064]]\n",
      "[[1585]\n",
      " [1975]\n",
      " [2365]]\n"
     ]
    }
   ],
   "source": [
    "a=array([[1,2,3],\n",
    "   [4 ,5 ,6],\n",
    "   [7 ,8, 9]])\n",
    "b=array([[11,12,13],\n",
    "   [14,15,16],\n",
    "   [17,18,19]])\n",
    "z=array([[31],[43],[56]])\n",
    "t=array([41,42,43])\n",
    "d1=b*t\n",
    "d2=multiply(b,z)#multiply was when i==x ;i[1]j[1]*x[1]\n",
    "d3=dot(b,z)# dot multeply was i*j dot x*y  == i[1]j[1]*x[1]y[1]+i[1]j[2]*x[1]y[2]+...+i[1]j[j]*x[1]y[y]\n",
    "# then i*j and x*y must had i==x or j==y\n",
    "\n",
    "print(b)\n",
    "print(z)\n",
    "print('-'*20)\n",
    "print(d1)\n",
    "print(' the same hang * was 11*41 12*42 13*43')\n",
    "print(d2)\n",
    "print('the same lie * was 11*31 14*31 11*17')\n",
    "print(d3)\n",
    "print('dot was (11*31+12*43+13*56')"
   ]
  },
  {
   "cell_type": "code",
   "execution_count": 53,
   "metadata": {},
   "outputs": [
    {
     "name": "stdout",
     "output_type": "stream",
     "text": [
      "[[ 3  0  2]\n",
      " [-2  0 -2]\n",
      " [ 0  1  1]]\n",
      "--------------------\n",
      "[[ 1.   1.   0. ]\n",
      " [ 1.   1.5  1. ]\n",
      " [-1.  -1.5 -0. ]]\n",
      "--------------------\n",
      "[[1.00000000e+00 0.00000000e+00 2.22044605e-16]\n",
      " [0.00000000e+00 1.00000000e+00 2.22044605e-16]\n",
      " [0.00000000e+00 0.00000000e+00 1.00000000e+00]]\n"
     ]
    }
   ],
   "source": [
    "a=array([[3,0,2],[-2,0,-2],[0,1,1]])\n",
    "print(a)\n",
    "print('-'*20)\n",
    "a_inv=linalg.inv(a)\n",
    "print(a_inv)\n",
    "print('-'*20)\n",
    "a_bis=a_inv.dot(a)\n",
    "print(a_bis)"
   ]
  },
  {
   "cell_type": "code",
   "execution_count": 57,
   "metadata": {},
   "outputs": [
    {
     "name": "stdout",
     "output_type": "stream",
     "text": [
      "y=2x \n",
      " y=-x+3\n",
      "[[ 2 -1]\n",
      " [ 1  1]]\n",
      "[[0]\n",
      " [3]]\n",
      "--------------------\n",
      "[[ 0.33333333  0.33333333]\n",
      " [-0.33333333  0.66666667]]\n",
      "[[1.]\n",
      " [2.]]\n"
     ]
    }
   ],
   "source": [
    "a1=array([[2,-1],[1,1]])\n",
    "b1=array([[0],[3]])\n",
    "a_inv=linalg.inv(a1)\n",
    "x=a_inv.dot(b1)\n",
    "print( 'y=2x','\\n','y=-x+3')\n",
    "print(a1)\n",
    "print(b1)\n",
    "print('-'*20)               # in a1 [2 -1] 2 was the first 2*x and -1 was  -x values\n",
    "print(a_inv)                     # a1 [1 1] was the first y and second y values\n",
    "                                    # then in b1 [0,3]  the 0 was y=2x + 0\n",
    "                                    # b1[0,3] 3 was y= -x + 3\n",
    "                                    #x was the anwsear  x==1 and y==2\n",
    "print(x)                            # but why need the a=>a_inv then dot with b1"
   ]
  },
  {
   "cell_type": "code",
   "execution_count": 75,
   "metadata": {},
   "outputs": [
    {
     "name": "stdout",
     "output_type": "stream",
     "text": [
      "[[ 6  2]\n",
      " [ 6 -6]]\n",
      "[[ 0.75  0.25]\n",
      " [ 0.25 -0.25]]\n",
      "[[5. 1.]\n",
      " [3. 3.]]\n"
     ]
    }
   ],
   "source": [
    "v=array([[1,1],[1,-3]])\n",
    "\n",
    "lambdas=diag([6,2])\n",
    "\n",
    "v_inv=linalg.inv(v)\n",
    "\n",
    "t=v.dot(lambdas)\n",
    "t1=t.dot(v_inv)\n",
    "print(t)\n",
    "print(v_inv)\n",
    "print(t1)\n",
    "v=v.dot(lambdas).dot(v_inv)\n"
   ]
  },
  {
   "cell_type": "code",
   "execution_count": 85,
   "metadata": {},
   "outputs": [
    {
     "name": "stdout",
     "output_type": "stream",
     "text": [
      "[[ 2  3  4]\n",
      " [ 5  6  7]\n",
      " [ 8  9 10]]\n",
      "[[11 12 13]\n",
      " [14 15 16]\n",
      " [17 18 19]]\n",
      "[[132 141 150]\n",
      " [258 276 294]\n",
      " [384 411 438]]\n"
     ]
    }
   ],
   "source": [
    "a=array([[2,3,4],[5,6,7],[8,9,10]])\n",
    "b=array([[11,12,13],[14,15,16],[17,18,19]])\n",
    "print(a)\n",
    "print(b)\n",
    "print(dot(a,b))"
   ]
  },
  {
   "cell_type": "code",
   "execution_count": 84,
   "metadata": {},
   "outputs": [
    {
     "data": {
      "text/plain": [
       "1.0"
      ]
     },
     "execution_count": 84,
     "metadata": {},
     "output_type": "execute_result"
    }
   ],
   "source": [
    "6*0.75+0.25*2\n",
    "6*0.25-2*0.25\n"
   ]
  },
  {
   "cell_type": "code",
   "execution_count": 90,
   "metadata": {},
   "outputs": [
    {
     "data": {
      "text/plain": [
       "\"a=random.randn(200,500)\\nb=random.randn(500,500)\\ndef fun(i):\\n    return dot(a,dot(b,1*eye(500)))\\nres1=a+a\\nres2=dot(a,a.T)\\nres3=dot(a.T,a)\\nres4=dot(a,b)\\ni = int(input('lambda:'))\\nres5=fun(i)\\nprint(res1)\\nprint('-'*20)\\nprint(res2)\\nprint('-'*20)\\nprint(res3)\\nprint('-'*20)\\nprint(res4)\\nprint('-'*20)\\nprint(res5)\\nprint('-'*20)\""
      ]
     },
     "execution_count": 90,
     "metadata": {},
     "output_type": "execute_result"
    }
   ],
   "source": [
    "from numpy import*\n",
    "from matplotlib import pyplot as plt\n",
    "'''a=random.randn(200,500)\n",
    "b=random.randn(500,500)\n",
    "def fun(i):\n",
    "    return dot(a,dot(b,1*eye(500)))\n",
    "res1=a+a\n",
    "res2=dot(a,a.T)\n",
    "res3=dot(a.T,a)\n",
    "res4=dot(a,b)\n",
    "i = int(input('lambda:'))\n",
    "res5=fun(i)\n",
    "print(res1)\n",
    "print('-'*20)\n",
    "print(res2)\n",
    "print('-'*20)\n",
    "print(res3)\n",
    "print('-'*20)\n",
    "print(res4)\n",
    "print('-'*20)\n",
    "print(res5)\n",
    "print('-'*20)'''"
   ]
  },
  {
   "cell_type": "code",
   "execution_count": 124,
   "metadata": {},
   "outputs": [
    {
     "name": "stdout",
     "output_type": "stream",
     "text": [
      "please input a number:5\n",
      "[0 1 2 3 4]\n"
     ]
    },
    {
     "data": {
      "image/png": "[encoded data removed]",
      "text/plain": [
       "<Figure size 432x288 with 1 Axes>"
      ]
     },
     "metadata": {
      "needs_background": "light"
     },
     "output_type": "display_data"
    }
   ],
   "source": [
    "i=int(input('please input a number:'))\n",
    "x=arange(0,i)\n",
    "y=2*x\n",
    "y1=-x + 3\n",
    "pyplot.figure()\n",
    "pyplot.plot(x,y)\n",
    "#pyplot.xlim(0,3)\n",
    "#pyplot.ylim(0,3)\n",
    "print(x)\n",
    "\n",
    "pyplot.show()\n",
    "pyplot.close()"
   ]
  },
  {
   "cell_type": "code",
   "execution_count": 97,
   "metadata": {},
   "outputs": [
    {
     "data": {
      "image/png": "[encoded data removed]",
      "text/plain": [
       "<Figure size 432x288 with 1 Axes>"
      ]
     },
     "metadata": {
      "needs_background": "light"
     },
     "output_type": "display_data"
    }
   ],
   "source": [
    "import math\n",
    "'''t=linspace(0,2*pi,100)\n",
    "x=cos(t)\n",
    "y=sin(t)\n",
    "\n",
    "plt.figure()\n",
    "plt.plot(x,y)\n",
    "plt.xlim(-4,4)\n",
    "plt.ylim(-4,4)\n",
    "plt.show()\n",
    "'''\n",
    "from matplotlib.patches import Ellipse,Circle\n",
    "fig = plt.figure()\n",
    "ax = fig.add_subplot(111)\n",
    "e111=Ellipse(xy=(0.0,0.0),width=4,height = 8,angle = 30.0,facecolor='yellow',alpha=0.3)\n",
    "cir1=Circle(xy=(0.0,0.0),radius=2,alpha=0.5)\n",
    "ax.add_patch(e111)\n",
    "ax.add_patch(cir1)\n",
    "x,y=0,0\n",
    "ax.plot(x,y,'ro')\n",
    "plt.axis('scaled')\n",
    "plt.axis('equal')\n",
    "plt.show()"
   ]
  },
  {
   "cell_type": "code",
   "execution_count": 100,
   "metadata": {},
   "outputs": [
    {
     "data": {
      "image/png": "[encoded data removed]",
      "text/plain": [
       "<Figure size 432x288 with 1 Axes>"
      ]
     },
     "metadata": {
      "needs_background": "light"
     },
     "output_type": "display_data"
    }
   ],
   "source": [
    "plt.plot([1,2,3,6],[4,5,8,1],'g--p')\n",
    "plt.show()"
   ]
  },
  {
   "cell_type": "code",
   "execution_count": 119,
   "metadata": {},
   "outputs": [
    {
     "data": {
      "image/png": "[encoded data removed]",
      "text/plain": [
       "<Figure size 432x288 with 1 Axes>"
      ]
     },
     "metadata": {
      "needs_background": "light"
     },
     "output_type": "display_data"
    },
    {
     "data": {
      "text/plain": [
       "'  how to bulit the vector  and how to change it and  how to express the new vector'"
      ]
     },
     "execution_count": 119,
     "metadata": {},
     "output_type": "execute_result"
    }
   ],
   "source": [
    "from matplotlib import pyplot as plt\n",
    "plt.figure()\n",
    "z=linspace(0,1,5)\n",
    "x=y=z\n",
    "x1=-z\n",
    "plt.plot(x,y)\n",
    "plt.plot(x1,y,'r')\n",
    "plt.xlim(-1.5,1.5)\n",
    "plt.ylim(-1.5,1.5)\n",
    "plt.show()\n",
    "'''  how to bulit the vector  and how to change it and  how to express the new vector'''"
   ]
  },
  {
   "cell_type": "code",
   "execution_count": 109,
   "metadata": {},
   "outputs": [
    {
     "ename": "NameError",
     "evalue": "name 'm' is not defined",
     "output_type": "error",
     "traceback": [
      "\u001b[0;31m---------------------------------------------------------------------------\u001b[0m",
      "\u001b[0;31mNameError\u001b[0m                                 Traceback (most recent call last)",
      "\u001b[0;32m<ipython-input-109-db9a47f769e8>\u001b[0m in \u001b[0;36m<module>\u001b[0;34m\u001b[0m\n\u001b[0;32m----> 1\u001b[0;31m \u001b[0mb\u001b[0m\u001b[0;34m=\u001b[0m \u001b[0mrandom\u001b[0m\u001b[0;34m.\u001b[0m\u001b[0mrandom\u001b[0m\u001b[0;34m(\u001b[0m\u001b[0;34m(\u001b[0m\u001b[0mm\u001b[0m\u001b[0;34m,\u001b[0m\u001b[0;34m)\u001b[0m\u001b[0;34m)\u001b[0m\u001b[0;34m\u001b[0m\u001b[0;34m\u001b[0m\u001b[0m\n\u001b[0m\u001b[1;32m      2\u001b[0m \u001b[0mx\u001b[0m\u001b[0;34m=\u001b[0m\u001b[0mlinalg\u001b[0m\u001b[0;34m.\u001b[0m\u001b[0msolve\u001b[0m\u001b[0;34m(\u001b[0m\u001b[0;36m8\u001b[0m\u001b[0;34m,\u001b[0m\u001b[0mb\u001b[0m\u001b[0;34m)\u001b[0m\u001b[0;34m\u001b[0m\u001b[0;34m\u001b[0m\u001b[0m\n",
      "\u001b[0;31mNameError\u001b[0m: name 'm' is not defined"
     ]
    }
   ],
   "source": [
    "b= random.random((m,))\n",
    "x=linalg.solve(8,b)"
   ]
  },
  {
   "cell_type": "code",
   "execution_count": 118,
   "metadata": {},
   "outputs": [
    {
     "data": {
      "image/png": "[encoded data removed]",
      "text/plain": [
       "<Figure size 432x288 with 1 Axes>"
      ]
     },
     "metadata": {
      "needs_background": "light"
     },
     "output_type": "display_data"
    }
   ],
   "source": [
    "a=array([[1,2],[4,5]])\n",
    "b=array([3,4],[7,8])\n",
    "\n",
    "plt.figure()\n",
    "x=a\n",
    "y=a\n",
    "plt.plot(x,y)\n",
    "plt.show()"
   ]
  },
  {
   "cell_type": "code",
   "execution_count": null,
   "metadata": {},
   "outputs": [],
   "source": []
  },
  {
   "cell_type": "code",
   "execution_count": null,
   "metadata": {},
   "outputs": [],
   "source": []
  }
 ],
 "metadata": {
  "kernelspec": {
   "display_name": "Python 3",
   "language": "python",
   "name": "python3"
  },
  "language_info": {
   "codemirror_mode": {
    "name": "ipython",
    "version": 3
   },
   "file_extension": ".py",
   "mimetype": "text/x-python",
   "name": "python",
   "nbconvert_exporter": "python",
   "pygments_lexer": "ipython3",
   "version": "3.6.5"
  }
 },
 "nbformat": 4,
 "nbformat_minor": 2
}
