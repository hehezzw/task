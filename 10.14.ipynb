{
 "cells": [
  {
   "cell_type": "code",
   "execution_count": 1,
   "metadata": {},
   "outputs": [],
   "source": [
    "#my_string = 'this is my string', 如何查看这个字符串长度？"
   ]
  },
  {
   "cell_type": "code",
   "execution_count": 2,
   "metadata": {},
   "outputs": [
    {
     "name": "stdout",
     "output_type": "stream",
     "text": [
      "17\n"
     ]
    }
   ],
   "source": [
    "my_string = 'this is my string'\n",
    "print(len(my_string))"
   ]
  },
  {
   "cell_type": "code",
   "execution_count": null,
   "metadata": {},
   "outputs": [],
   "source": [
    "#使用 while 来计算 1 到 100 的总和"
   ]
  },
  {
   "cell_type": "code",
   "execution_count": 3,
   "metadata": {},
   "outputs": [
    {
     "name": "stdout",
     "output_type": "stream",
     "text": [
      "5050\n"
     ]
    }
   ],
   "source": [
    "a=1\n",
    "sum=0\n",
    "while a<=100:\n",
    "    sum+=a\n",
    "    a+=1\n",
    "print(sum)"
   ]
  },
  {
   "cell_type": "code",
   "execution_count": 4,
   "metadata": {},
   "outputs": [],
   "source": [
    "#6. 输入一年份，判断该年份是否是闰年并输出结果。\n"
   ]
  },
  {
   "cell_type": "code",
   "execution_count": 6,
   "metadata": {},
   "outputs": [
    {
     "name": "stdout",
     "output_type": "stream",
     "text": [
      "please input ever year:2020\n",
      "this 2020 years was runnian\n"
     ]
    }
   ],
   "source": [
    "years=int(input('please input ever year:'))\n",
    "if (years%4)==0 and (years%100) != 0 or (years%400)==0:\n",
    "    print('this %d years was runnian'%years)\n",
    "else:\n",
    "    print('this years not was the runnian')"
   ]
  },
  {
   "cell_type": "code",
   "execution_count": null,
   "metadata": {},
   "outputs": [],
   "source": [
    "#7. 使用while, 完成以下图形的输出"
   ]
  },
  {
   "cell_type": "code",
   "execution_count": 7,
   "metadata": {},
   "outputs": [
    {
     "name": "stdout",
     "output_type": "stream",
     "text": [
      " \n",
      "* \n",
      "** \n",
      "*** \n",
      "**** \n",
      "***** \n",
      "**** \n",
      "*** \n",
      "** \n",
      "* \n"
     ]
    }
   ],
   "source": [
    "n=0\n",
    "while n<10:\n",
    "    if n<=5:\n",
    "        print('*'*n,'\\n',end='')\n",
    "    else:\n",
    "        print('*'*(10-n),'\\n',end='')\n",
    "    n+=1"
   ]
  },
  {
   "cell_type": "code",
   "execution_count": null,
   "metadata": {},
   "outputs": [],
   "source": [
    "#8. 输入两个数，比较大小后，从小到大升序打印"
   ]
  },
  {
   "cell_type": "code",
   "execution_count": 8,
   "metadata": {},
   "outputs": [
    {
     "name": "stdout",
     "output_type": "stream",
     "text": [
      "a:5\n",
      "b:4\n",
      "[4, 5]\n"
     ]
    }
   ],
   "source": [
    "a=int(input('a:'))\n",
    "b=int(input('b:'))\n",
    "list=[]\n",
    "if a>b:\n",
    "    list.append(b)\n",
    "    list.append(a)\n",
    "else:\n",
    "    list.append(a)\n",
    "    list.append(b)\n",
    "print(list)"
   ]
  },
  {
   "cell_type": "code",
   "execution_count": null,
   "metadata": {},
   "outputs": [],
   "source": [
    "#9.有1、2、3、4个数字，能组成多少个互不相同且无重复数字的三位数？都是多少？"
   ]
  },
  {
   "cell_type": "code",
   "execution_count": 9,
   "metadata": {},
   "outputs": [
    {
     "name": "stdout",
     "output_type": "stream",
     "text": [
      "['111', '112', '113', '114', '121', '122', '123', '124', '131', '132', '133', '134', '141', '142', '143', '144', '211', '212', '213', '214', '221', '222', '223', '224', '231', '232', '233', '234', '241', '242', '243', '244', '311', '312', '313', '314', '321', '322', '323', '324', '331', '332', '333', '334', '341', '342', '343', '344', '411', '412', '413', '414', '421', '422', '423', '424', '431', '432', '433', '434', '441', '442', '443', '444']\n"
     ]
    }
   ],
   "source": [
    "a=[1,2,3,4]\n",
    "list=[]\n",
    "for i in a:\n",
    "    for y in a:\n",
    "        for x in a:\n",
    "            p=str(x)+str(y)+str(i)\n",
    "            list.append(p)\n",
    "list.sort()\n",
    "print(list) "
   ]
  },
  {
   "cell_type": "code",
   "execution_count": null,
   "metadata": {},
   "outputs": [],
   "source": [
    "#10. 一个整数，它加上100后是一个完全平方数，再加上168又是一个完全平方数，请问该数是多少？"
   ]
  },
  {
   "cell_type": "code",
   "execution_count": 16,
   "metadata": {},
   "outputs": [
    {
     "name": "stdout",
     "output_type": "stream",
     "text": [
      "21\n"
     ]
    }
   ],
   "source": [
    "import math\n",
    "x=1\n",
    "while(x):\n",
    "    y = int(math.sqrt(x+100))\n",
    "    z = int(math.sqrt(x+268))\n",
    "    if y*y-100==x and z*z-268==x:\n",
    "        print(x)\n",
    "        break\n",
    "    x=x+1"
   ]
  },
  {
   "cell_type": "code",
   "execution_count": 17,
   "metadata": {},
   "outputs": [],
   "source": [
    "#11.求200以内能被17整除的最大正整数"
   ]
  },
  {
   "cell_type": "code",
   "execution_count": 18,
   "metadata": {},
   "outputs": [
    {
     "name": "stdout",
     "output_type": "stream",
     "text": [
      "187\n"
     ]
    }
   ],
   "source": [
    "n=1\n",
    "a=0\n",
    "for n in range(201):\n",
    "    \n",
    "    if n%17==0:\n",
    "        a=n\n",
    "    n+=1\n",
    "print(a)"
   ]
  },
  {
   "cell_type": "code",
   "execution_count": 19,
   "metadata": {},
   "outputs": [],
   "source": [
    "#12. 输入一个正整数n，对其进行因式分解并输出。\n",
    "#例如：输入18，输出18=2*3*3"
   ]
  },
  {
   "cell_type": "code",
   "execution_count": 25,
   "metadata": {},
   "outputs": [
    {
     "name": "stdout",
     "output_type": "stream",
     "text": [
      "a number:20\n",
      "20=2*2*5\n"
     ]
    }
   ],
   "source": [
    "a=int(input('a number:'))\n",
    "b=0\n",
    "c=0\n",
    "while True:\n",
    "    if a%2==0:\n",
    "        for x in range(2,11):\n",
    "            if a%x==0: \n",
    "                b=a//x\n",
    "                break\n",
    "        for y in range(2,11):\n",
    "            if b%y==0:\n",
    "                c=b//y\n",
    "                break\n",
    "        print('%d=%d*%d*%d'%(a,x,y,c))\n",
    "        break\n",
    "    else:\n",
    "        print('%d=%d*1'%(a,a))\n",
    "        break"
   ]
  },
  {
   "cell_type": "code",
   "execution_count": 26,
   "metadata": {},
   "outputs": [],
   "source": [
    "#一球从100米高度自由落下，每次落地后反跳回原高度的一半，再落下，求他在第10次落地时，共经过多少米？第10次反弹多高？"
   ]
  },
  {
   "cell_type": "code",
   "execution_count": 27,
   "metadata": {},
   "outputs": [
    {
     "name": "stdout",
     "output_type": "stream",
     "text": [
      "299.609375\n",
      "0.1953125\n"
     ]
    }
   ],
   "source": [
    "n=100\n",
    "sum=100\n",
    "t=0\n",
    "for i in range(1,10):\n",
    "    t=n=n/2\n",
    "    sum+=(2*t)\n",
    "print(sum)\n",
    "print(t)"
   ]
  },
  {
   "cell_type": "code",
   "execution_count": 28,
   "metadata": {},
   "outputs": [],
   "source": [
    "#编写代码，实现求100-200里面所有的素数。"
   ]
  },
  {
   "cell_type": "code",
   "execution_count": 29,
   "metadata": {},
   "outputs": [
    {
     "name": "stdout",
     "output_type": "stream",
     "text": [
      "{'116', '141', '192', '142', '128', '176', '133', '187', '101', '182', '157', '196', '188', '155', '158', '103', '111', '163', '194', '118', '127', '134', '129', '184', '143', '183', '173', '136', '151', '105', '172', '159', '126', '191', '108', '107', '186', '169', '149', '109', '124', '177', '112', '189', '104', '171', '102', '119', '123', '152', '181', '113', '179', '185', '162', '144', '122', '166', '114', '139', '147', '156', '168', '138', '174', '115', '154', '178', '121', '125', '164', '137', '135', '199', '195', '198', '145', '153', '167', '175', '161', '197', '193', '148', '165', '106', '131', '146', '117', '132'}\n"
     ]
    }
   ],
   "source": [
    "l=[]\n",
    "for i in range(100,201):\n",
    "    for y in (2,10):\n",
    "        if i%y!=0:\n",
    "            t=str(i)\n",
    "            l.append(t)\n",
    "s=set(l)\n",
    "print(s)"
   ]
  },
  {
   "cell_type": "code",
   "execution_count": 30,
   "metadata": {},
   "outputs": [],
   "source": [
    "#d={‘a’:1,’b’:2,’c’:3}请打印出key、value对。"
   ]
  },
  {
   "cell_type": "code",
   "execution_count": 31,
   "metadata": {},
   "outputs": [
    {
     "name": "stdout",
     "output_type": "stream",
     "text": [
      "a:1\n",
      "b:2\n",
      "c:3\n"
     ]
    }
   ],
   "source": [
    "d={'a':1,'b':2,'c':3}\n",
    "for i in d:\n",
    "    print(i+':'+str(d[i]))"
   ]
  },
  {
   "cell_type": "code",
   "execution_count": null,
   "metadata": {},
   "outputs": [],
   "source": []
  },
  {
   "cell_type": "code",
   "execution_count": null,
   "metadata": {},
   "outputs": [],
   "source": []
  },
  {
   "cell_type": "code",
   "execution_count": null,
   "metadata": {},
   "outputs": [],
   "source": []
  },
  {
   "cell_type": "code",
   "execution_count": null,
   "metadata": {},
   "outputs": [],
   "source": []
  },
  {
   "cell_type": "code",
   "execution_count": null,
   "metadata": {},
   "outputs": [],
   "source": []
  }
 ],
 "metadata": {
  "kernelspec": {
   "display_name": "Python 3",
   "language": "python",
   "name": "python3"
  },
  "language_info": {
   "codemirror_mode": {
    "name": "ipython",
    "version": 3
   },
   "file_extension": ".py",
   "mimetype": "text/x-python",
   "name": "python",
   "nbconvert_exporter": "python",
   "pygments_lexer": "ipython3",
   "version": "3.7.3"
  }
 },
 "nbformat": 4,
 "nbformat_minor": 2
}
