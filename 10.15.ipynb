{
 "cells": [
  {
   "cell_type": "code",
   "execution_count": 1,
   "metadata": {},
   "outputs": [],
   "source": [
    "#1. 以字典为基础建立一个通讯录，向字典中添加和删除通讯人（名字、电话、email、工作单位等），查询某个人的信息，然后输出通讯录中所有人的信息。"
   ]
  },
  {
   "cell_type": "code",
   "execution_count": 8,
   "metadata": {},
   "outputs": [
    {
     "name": "stdout",
     "output_type": "stream",
     "text": [
      "添加前\n",
      "{}\n",
      "-------------\n",
      " 添加后\n",
      "{'one': ['123', '123@', 'school'], 'two': ['234', '234@', 'school']}\n",
      "删除two\n",
      "{'one': ['123', '123@', 'school']}\n",
      "serach one \n",
      "['123', '123@', 'school']\n",
      "None\n",
      "serach two \n",
      "not massage\n",
      "None\n"
     ]
    }
   ],
   "source": [
    "d = dict()\n",
    "def add(name,phone,email,place):\n",
    "    d.update({name:[phone,email,place]})\n",
    "def delete(name):\n",
    "    del d[name]\n",
    "def search(name):\n",
    "    if name in d:\n",
    "        print(d[name])\n",
    "    else:\n",
    "        print('not massage')\n",
    "        \n",
    "print('添加前')\n",
    "print(d)\n",
    "print('-------------')\n",
    "add('one','123','123@','school')\n",
    "add('two','234','234@','school')\n",
    "print(' 添加后')\n",
    "print(d)\n",
    "\n",
    "print('删除two')\n",
    "delete('two')\n",
    "print(d)\n",
    "print('serach one ')\n",
    "print(search('one'))\n",
    "print('serach two ')\n",
    "print(search('two'))"
   ]
  },
  {
   "cell_type": "code",
   "execution_count": 9,
   "metadata": {},
   "outputs": [],
   "source": [
    "#编写程序，计算圆的周长、面积和球的表面积、体积\n"
   ]
  },
  {
   "cell_type": "code",
   "execution_count": 16,
   "metadata": {},
   "outputs": [
    {
     "name": "stdout",
     "output_type": "stream",
     "text": [
      "面积 78.53981633974483\n",
      "周长 31.41592653589793\n",
      "表面积 314.1592653589793\n",
      "体积 523.5987755982989\n"
     ]
    }
   ],
   "source": [
    "from math import *\n",
    "def area(r):\n",
    "    a = pi*(r**2)\n",
    "    return a\n",
    "def length(r):\n",
    "    l = pi*r*2\n",
    "    return l\n",
    "def outarea(r):\n",
    "    oa=4*pi*(r**2)\n",
    "    return oa\n",
    "def vact(r):\n",
    "    v =(4/3)*pi*(r**3)\n",
    "    return v\n",
    "r = 5\n",
    "print('面积',area(r))\n",
    "print('周长',length(r))\n",
    "print('表面积',outarea(r))\n",
    "print('体积',vact(r))\n"
   ]
  },
  {
   "cell_type": "code",
   "execution_count": 17,
   "metadata": {},
   "outputs": [],
   "source": [
    "##编写程序，实现华氏温度和摄氏温度的转换\n"
   ]
  },
  {
   "cell_type": "code",
   "execution_count": null,
   "metadata": {},
   "outputs": [],
   "source": []
  },
  {
   "cell_type": "code",
   "execution_count": 18,
   "metadata": {},
   "outputs": [],
   "source": [
    "#4.创建文件data.txt,文件共100000行，每行存放一个1～100之间的整数。"
   ]
  },
  {
   "cell_type": "code",
   "execution_count": 22,
   "metadata": {},
   "outputs": [
    {
     "name": "stdout",
     "output_type": "stream",
     "text": [
      "\n"
     ]
    }
   ],
   "source": [
    "import random\n",
    "f = open('data.txt','w+')\n",
    "for i in range(10000):\n",
    "    f.write(str(random.randint(1,100))+ '\\n')\n",
    "print(f.read())\n",
    "f.close()"
   ]
  },
  {
   "cell_type": "code",
   "execution_count": 23,
   "metadata": {},
   "outputs": [],
   "source": []
  },
  {
   "cell_type": "code",
   "execution_count": null,
   "metadata": {},
   "outputs": [],
   "source": []
  }
 ],
 "metadata": {
  "kernelspec": {
   "display_name": "Python 3",
   "language": "python",
   "name": "python3"
  },
  "language_info": {
   "codemirror_mode": {
    "name": "ipython",
    "version": 3
   },
   "file_extension": ".py",
   "mimetype": "text/x-python",
   "name": "python",
   "nbconvert_exporter": "python",
   "pygments_lexer": "ipython3",
   "version": "3.7.3"
  }
 },
 "nbformat": 4,
 "nbformat_minor": 2
}
