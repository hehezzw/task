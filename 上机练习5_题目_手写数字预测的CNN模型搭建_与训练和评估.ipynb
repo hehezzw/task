{
 "cells": [
  {
   "cell_type": "markdown",
   "metadata": {
    "_cell_guid": "d4c08f48-fe23-4ddb-ac46-d97f05397514",
    "_uuid": "f2156d1dd26a1243e18512002e10872c5bd7271e",
    "pycharm": {}
   },
   "source": [
    "* **1. Introduction**\n",
    "* **2. Data preparation**\n",
    "    * 2.1 Load data\n",
    "    * 2.2 Check for null and missing values\n",
    "    * 2.3 Normalization\n",
    "    * 2.4 Reshape\n",
    "    * 2.5 Label encoding\n",
    "    * 2.6 Split training and valdiation set\n",
    "* **3. CNN**\n",
    "\n",
    "* **4. Evaluate the model**\n",
    "\n",
    "* **5. Prediction and submition**\n"
   ]
  },
  {
   "cell_type": "code",
   "execution_count": 0,
   "metadata": {
    "pycharm": {
     "is_executing": false
    }
   },
   "outputs": [],
   "source": []
  },
  {
   "cell_type": "markdown",
   "metadata": {
    "_cell_guid": "eb88b372-a6e5-40c8-a1c6-c03799165490",
    "_uuid": "e9aff3cf1bb8daa73bec67b970d12195677679f3",
    "pycharm": {}
   },
   "source": [
    "# 1. Introduction\n"
   ]
  },
  {
   "cell_type": "code",
   "execution_count": 2,
   "metadata": {
    "_cell_guid": "f67b9393-8ea1-4e23-b856-2ce149cfe421",
    "_execution_state": "idle",
    "_uuid": "72334cb006d02a4bcfc2a2fe622524eba824c6f8",
    "pycharm": {}
   },
   "outputs": [
    {
     "name": "stderr",
     "output_type": "stream",
     "text": [
      "Using TensorFlow backend.\n"
     ]
    }
   ],
   "source": [
    "import pandas as pd\n",
    "import numpy as np\n",
    "import matplotlib.pyplot as plt\n",
    "import matplotlib.image as mpimg\n",
    "import seaborn as sns\n",
    "%matplotlib inline\n",
    "\n",
    "\n",
    "from sklearn.model_selection import train_test_split\n",
    "from sklearn.metrics import confusion_matrix\n",
    "import itertools\n",
    "import tensorflow\n",
    "from tensorflow import keras\n",
    "from tensorflow.keras.models import*\n",
    "from tensorflow.keras.layers import*\n",
    "from tensorflow.keras import*\n",
    "#import Session\n",
    "#from tensorflow.keras.session import*\n",
    "from keras.utils.np_utils import to_categorical # convert to one-hot-encoding\n",
    "#from keras.models import Sequential\n",
    "#from keras.layers import Dense, Dropout, Flatten, Conv2D, MaxPool2D\n",
    "from keras.optimizers import RMSprop\n",
    "from keras.preprocessing.image import ImageDataGenerator\n",
    "from tensorflow.keras.callbacks import ReduceLROnPlateau\n",
    "#import keras\n",
    "#from keras.models import Sequential\n",
    "#from keras.layers import Dense, Dropout, Flatten, Conv2D, MaxPool2D\n",
    "#from keras.layers.normalization import BatchNormalization\n",
    "#from keras.preprocessing.image import ImageDataGenerator\n",
    "#from keras.callbacks import ReduceLROnPlateau\n",
    "from sklearn.model_selection import train_test_split\n",
    "\n",
    "sns.set(style='white', context='notebook', palette='deep')"
   ]
  },
  {
   "cell_type": "markdown",
   "metadata": {
    "_cell_guid": "6d2fb3e6-ab71-4974-b5a2-4af1ebdb99f4",
    "_execution_state": "idle",
    "_uuid": "86061d98eccaa02efe0dab0fa3884e71fcf4c310",
    "pycharm": {}
   },
   "source": [
    "# 2. Data preparation\n",
    "## 2.1 Load data"
   ]
  },
  {
   "cell_type": "code",
   "execution_count": 3,
   "metadata": {
    "_cell_guid": "5e51d00e-62fd-4141-bf73-50ac4f2da7d0",
    "_execution_state": "idle",
    "_uuid": "84bbd5ab8d7895bd430d5ecfe2f7ddf77baa7b74",
    "pycharm": {
     "is_executing": false
    }
   },
   "outputs": [],
   "source": [
    "# >>>>>填写<<<< 利用pandas的load_csv函数，读取我们的train 和 test数据集合 变量已经给出 >>>>>填写<<<< ######\n",
    "train = pd.read_csv('D:/AI/11.1/subset_train.csv')\n",
    "test = pd.read_csv('D:/AI/11.1/Small_test.csv')\n",
    "\n",
    "#print(train)\n",
    "#####train validation test(完全独立的，与训练过程无关的)"
   ]
  },
  {
   "cell_type": "code",
   "execution_count": 4,
   "metadata": {},
   "outputs": [
    {
     "name": "stdout",
     "output_type": "stream",
     "text": [
      "             label  pixel0  pixel1  pixel2  pixel3  pixel4  pixel5  pixel6  \\\n",
      "count  4200.000000  4200.0  4200.0  4200.0  4200.0  4200.0  4200.0  4200.0   \n",
      "mean      4.409762     0.0     0.0     0.0     0.0     0.0     0.0     0.0   \n",
      "std       2.890714     0.0     0.0     0.0     0.0     0.0     0.0     0.0   \n",
      "min       0.000000     0.0     0.0     0.0     0.0     0.0     0.0     0.0   \n",
      "25%       2.000000     0.0     0.0     0.0     0.0     0.0     0.0     0.0   \n",
      "50%       4.000000     0.0     0.0     0.0     0.0     0.0     0.0     0.0   \n",
      "75%       7.000000     0.0     0.0     0.0     0.0     0.0     0.0     0.0   \n",
      "max       9.000000     0.0     0.0     0.0     0.0     0.0     0.0     0.0   \n",
      "\n",
      "       pixel7  pixel8  ...     pixel774     pixel775     pixel776  pixel777  \\\n",
      "count  4200.0  4200.0  ...  4200.000000  4200.000000  4200.000000    4200.0   \n",
      "mean      0.0     0.0  ...     0.224286     0.195000     0.060000       0.0   \n",
      "std       0.0     0.0  ...     6.263955     6.513973     2.826106       0.0   \n",
      "min       0.0     0.0  ...     0.000000     0.000000     0.000000       0.0   \n",
      "25%       0.0     0.0  ...     0.000000     0.000000     0.000000       0.0   \n",
      "50%       0.0     0.0  ...     0.000000     0.000000     0.000000       0.0   \n",
      "75%       0.0     0.0  ...     0.000000     0.000000     0.000000       0.0   \n",
      "max       0.0     0.0  ...   253.000000   253.000000   156.000000       0.0   \n",
      "\n",
      "       pixel778  pixel779  pixel780  pixel781  pixel782  pixel783  \n",
      "count    4200.0    4200.0    4200.0    4200.0    4200.0    4200.0  \n",
      "mean        0.0       0.0       0.0       0.0       0.0       0.0  \n",
      "std         0.0       0.0       0.0       0.0       0.0       0.0  \n",
      "min         0.0       0.0       0.0       0.0       0.0       0.0  \n",
      "25%         0.0       0.0       0.0       0.0       0.0       0.0  \n",
      "50%         0.0       0.0       0.0       0.0       0.0       0.0  \n",
      "75%         0.0       0.0       0.0       0.0       0.0       0.0  \n",
      "max         0.0       0.0       0.0       0.0       0.0       0.0  \n",
      "\n",
      "[8 rows x 785 columns]\n"
     ]
    }
   ],
   "source": [
    "print(train.describe())\n",
    "#print(train.value_counts())"
   ]
  },
  {
   "cell_type": "code",
   "execution_count": null,
   "metadata": {},
   "outputs": [],
   "source": []
  },
  {
   "cell_type": "code",
   "execution_count": 5,
   "metadata": {
    "_cell_guid": "86570a36-5c20-460a-9dfd-2070548532a7",
    "_execution_state": "idle",
    "_uuid": "1213b979d5ed3e0d13824d17d694c79d2ece92fa",
    "pycharm": {}
   },
   "outputs": [
    {
     "data": {
      "text/plain": [
       "3    227\n",
       "7    220\n",
       "2    220\n",
       "1    218\n",
       "6    214\n",
       "9    209\n",
       "4    209\n",
       "5    201\n",
       "0    199\n",
       "8    183\n",
       "Name: label, dtype: int64"
      ]
     },
     "execution_count": 5,
     "metadata": {},
     "output_type": "execute_result"
    },
    {
     "data": {
      "image/png": "[encoded data removed]",
      "text/plain": [
       "<Figure size 432x288 with 1 Axes>"
      ]
     },
     "metadata": {
      "needs_background": "light"
     },
     "output_type": "display_data"
    }
   ],
   "source": [
    "# >>>>>填写<<<< 利用pandas的header选择，将label列传递给Y_train >>>>>填写<<<< \n",
    "Y_train = train[\"label\"]\n",
    "Y_test = test['label']\n",
    "# 因为train.csv中，第一列label在上述代码已经传递给Y_label，这里对于x_train 我们不需要训练集的第一列 #####\n",
    "X_train = train.drop(labels = [\"label\"],axis = 1) \n",
    "X_test = test.drop(labels = [\"label\"],axis = 1)\n",
    "'''\n",
    "print(Y_train)\n",
    "print('---------------------------')\n",
    "print(Y_test)\n",
    "print('---------------------------')\n",
    "print(X_train)\n",
    "print('---------------------------')\n",
    "print(X_test)\n",
    "'''\n",
    "g = sns.countplot(Y_train)\n",
    "\n",
    "Y_train.value_counts()\n",
    "Y_train\n",
    "Y_test.value_counts()\n"
   ]
  },
  {
   "cell_type": "markdown",
   "metadata": {
    "_cell_guid": "5aea4062-1790-4987-b739-c4bebd79030f",
    "_uuid": "b7b1b1d36243c885e57374c8b60c5a7e10abe922",
    "pycharm": {}
   },
   "source": [
    "## We have similar counts for the 10 digits."
   ]
  },
  {
   "cell_type": "markdown",
   "metadata": {
    "_cell_guid": "5b7d4b66-a140-4fcc-a889-bcef007c880a",
    "_uuid": "5d77934302869925c19128c77e247b3c8ca84d71",
    "pycharm": {}
   },
   "source": [
    "## 2.2 Check for null and missing values"
   ]
  },
  {
   "cell_type": "code",
   "execution_count": 6,
   "metadata": {
    "_cell_guid": "ececaa00-2ae3-4d13-b631-438df085b030",
    "_execution_state": "idle",
    "_uuid": "cdf27c27e2a5b15e6d7bfc70de7a18c08f3feb7a",
    "pycharm": {}
   },
   "outputs": [
    {
     "data": {
      "text/plain": [
       "count       784\n",
       "unique        1\n",
       "top       False\n",
       "freq        784\n",
       "dtype: object"
      ]
     },
     "execution_count": 6,
     "metadata": {},
     "output_type": "execute_result"
    }
   ],
   "source": [
    "# 检查训练数据是否有空值\n",
    "X_train.isnull().any().describe() "
   ]
  },
  {
   "cell_type": "code",
   "execution_count": 7,
   "metadata": {
    "_cell_guid": "92572e80-8543-4e72-8767-5c9be8381b04",
    "_execution_state": "idle",
    "_uuid": "a0089bb7ec9aec76373db475399aea24699ae989",
    "pycharm": {}
   },
   "outputs": [
    {
     "data": {
      "text/plain": [
       "count       784\n",
       "unique        1\n",
       "top       False\n",
       "freq        784\n",
       "dtype: object"
      ]
     },
     "execution_count": 7,
     "metadata": {},
     "output_type": "execute_result"
    }
   ],
   "source": [
    "# >>>>填写<<<< 检查训练数据是否有空值 >>>>填写<<<< ###\n",
    "X_test.isnull().any().describe()"
   ]
  },
  {
   "cell_type": "markdown",
   "metadata": {
    "_cell_guid": "09d04cae-4245-4659-85dd-ef48531da295",
    "_uuid": "c0bee59691c2df0b275c78e38e7f9907d02ac038",
    "pycharm": {}
   },
   "source": [
    "I check for corrupted images (missing values inside).\n",
    "\n",
    "There is no missing values in the train and test dataset. So we can safely go ahead."
   ]
  },
  {
   "cell_type": "markdown",
   "metadata": {
    "_cell_guid": "6812040d-80ad-43d2-a571-275f4f20067b",
    "_uuid": "2954681f25f0dcbe986e6914396cdbce61db591f",
    "pycharm": {}
   },
   "source": [
    "## 2.3 Normalization"
   ]
  },
  {
   "cell_type": "markdown",
   "metadata": {
    "_cell_guid": "159d5854-437a-4d0f-bc1e-fc3f7e43d178",
    "_uuid": "0ecf4b52510ab7957d0d4eb646c0aa1ba5986273",
    "pycharm": {}
   },
   "source": [
    "We perform a grayscale normalization to reduce the effect of illumination's differences. \n",
    "\n",
    "Moreover the CNN converg faster on [0..1] data than on [0..255].\n",
    "标准化，将灰度值 0-255 映射到0 - 1区间"
   ]
  },
  {
   "cell_type": "code",
   "execution_count": 8,
   "metadata": {
    "_cell_guid": "cdc4340b-6e24-4e12-be99-ac806098ff17",
    "_execution_state": "idle",
    "_uuid": "b5d4f8fcf2a967e2c7d57daedf95aa8c5ab7f8cb",
    "pycharm": {}
   },
   "outputs": [],
   "source": [
    "# Normalize the data\n",
    "X_train = X_train / 255.0\n",
    "###### >>>填写<<< 标准化测试集合 #######\n",
    "X_test = X_test / 255.0"
   ]
  },
  {
   "cell_type": "markdown",
   "metadata": {
    "_cell_guid": "7413df94-bcb9-4f75-b174-c127d4445766",
    "_uuid": "a66741bf1ac597094f3a3166877008feef27c519",
    "pycharm": {}
   },
   "source": [
    "## 2.3 Reshape"
   ]
  },
  {
   "cell_type": "code",
   "execution_count": 9,
   "metadata": {
    "_cell_guid": "34b6a5f7-8fd2-4387-8ef4-c9dc19584fed",
    "_execution_state": "idle",
    "_uuid": "f0a6ad80dab8e0f2c2e46165ccd9cd82dd162bc3",
    "pycharm": {}
   },
   "outputs": [],
   "source": [
    "# >>>>填写<<<<< 利用 reshape 函数， 将X_train变换成 (height = 28px, width = 28px , canal = 1)>>>>填写<<<<< ######\n",
    "X_train = X_train.values.reshape(-1,28,28,1)\n",
    "X_test = X_test.values.reshape(-1,28,28,1) \n",
    "# -1 是指倒置  28，28，1 指 28*28的模型一个通道"
   ]
  },
  {
   "cell_type": "markdown",
   "metadata": {
    "_cell_guid": "8decd1ce-7b7e-431d-8458-eaca18e0e1f7",
    "_uuid": "f4fb5553e188d9956f5d8b3a5d275ab00ea667ce",
    "pycharm": {}
   },
   "source": [
    "Train and test images (28px x 28px) has been stock into pandas.Dataframe as 1D vectors of 784 values. We reshape all data to 28x28x1 3D matrices. \n",
    "\n",
    "Keras requires an extra dimension in the end which correspond to channels. MNIST images are gray scaled so it use only one channel. For RGB images, there is 3 channels, we would have reshaped 784px vectors to 28x28x3 3D matrices. "
   ]
  },
  {
   "cell_type": "markdown",
   "metadata": {
    "_cell_guid": "bdb422e2-bdec-444f-97a5-283a1e54bf2c",
    "_uuid": "39b7a31e843bac6b705461bcce89da216b91799e",
    "pycharm": {}
   },
   "source": [
    "## 2.5 Label encoding"
   ]
  },
  {
   "cell_type": "code",
   "execution_count": 10,
   "metadata": {
    "_cell_guid": "4b7f3e78-44dc-4561-b1f0-9429ee024cf4",
    "_execution_state": "idle",
    "_uuid": "cabefd1478d5c1bdfe57fd6a34395340916a854c",
    "pycharm": {}
   },
   "outputs": [],
   "source": [
    "# 利用0 1编码 将0-9数字标签编码成10维向量 (ex : 9 -> [0,0,0,0,0,0,0,0,0,1])\n",
    "##\n",
    "Y_train = to_categorical(Y_train, num_classes = 10)\n",
    "Y_test = to_categorical(Y_test, num_classes = 10)\n",
    "## one-hot encoding"
   ]
  },
  {
   "cell_type": "markdown",
   "metadata": {
    "_cell_guid": "ae068bd8-b12e-4768-8a7e-0fc865dd7562",
    "_uuid": "dcfb688587dfc6feafd27442a3505e35dc01b82d",
    "pycharm": {}
   },
   "source": [
    "Labels are 10 digits numbers from 0 to 9. We need to encode these lables to one hot vectors (ex : 2 -> [0,0,1,0,0,0,0,0,0,0])."
   ]
  },
  {
   "cell_type": "markdown",
   "metadata": {
    "_cell_guid": "32152fc3-a570-4d64-8a7d-6c689a4acd33",
    "_uuid": "d8abbbf31483b94e1b29d07c4c8253d1311648a7",
    "pycharm": {}
   },
   "source": [
    "## 2.6 Split training and valdiation set "
   ]
  },
  {
   "cell_type": "code",
   "execution_count": 11,
   "metadata": {
    "_cell_guid": "3a698301-9759-4279-ae48-fd980f89ea53",
    "_execution_state": "idle",
    "_uuid": "6e51c925c6e0f1b936679c9649fef345c853555f",
    "pycharm": {}
   },
   "outputs": [],
   "source": [
    "# Set the random seed\n",
    "random_seed = 2"
   ]
  },
  {
   "cell_type": "code",
   "execution_count": 12,
   "metadata": {
    "_cell_guid": "dcd25ebb-d845-4d32-9867-082e352b1396",
    "_execution_state": "idle",
    "_uuid": "b779ac76d8317647db92d5a88b4098d212d72884",
    "pycharm": {}
   },
   "outputs": [],
   "source": [
    "# 将训练集合按照9:1 分成训练集合 和验证集合 validation 10折交叉验证 10-fold validation  ####\n",
    "X_train, X_val, Y_train, Y_val = train_test_split(X_train, Y_train, test_size = 0.1, random_state=random_seed)\n",
    "#print(X_train, X_val,'\\n')\n",
    "#print(Y_train, Y_val,'\\n')\n",
    "#the had some problem"
   ]
  },
  {
   "cell_type": "markdown",
   "metadata": {
    "_cell_guid": "adbeacf0-0dc0-4675-b2df-9c9663750f32",
    "_uuid": "60eed15ec5bc0d354385301789ecb8538fc02267",
    "pycharm": {}
   },
   "source": [
    "We can get a better sense for one of these examples by visualising the image and looking at the label."
   ]
  },
  {
   "cell_type": "code",
   "execution_count": 13,
   "metadata": {
    "_cell_guid": "5f76131b-4ba0-45f1-a98c-bd4e7d561793",
    "_execution_state": "idle",
    "_uuid": "e0dae8943d3d35f075dba3d7ba31bde1d4bf2ff4",
    "pycharm": {}
   },
   "outputs": [
    {
     "data": {
      "image/png": "[encoded data removed]",
      "text/plain": [
       "<Figure size 432x288 with 1 Axes>"
      ]
     },
     "metadata": {
      "needs_background": "light"
     },
     "output_type": "display_data"
    }
   ],
   "source": [
    "# Some examples #x-train里面第一个sample的 0:最大 0:最大 0 [:,:,0] \n",
    "g = plt.imshow(X_train[0][:,:,0],cmap='gray') #plt为什么把灰度可以生\n",
    "# to find the [0][:,:,0]"
   ]
  },
  {
   "cell_type": "markdown",
   "metadata": {
    "_cell_guid": "d5265777-aeb3-449d-b171-d88cad74c0a4",
    "_uuid": "5fa18b37a9acd9e098bac1d12264b0dd4310fdd3",
    "pycharm": {}
   },
   "source": [
    "# 3. CNN\n",
    "## 3.1 Define the model"
   ]
  },
  {
   "cell_type": "markdown",
   "metadata": {
    "_cell_guid": "504fa00e-148c-4364-9b68-218b3aaedfdb",
    "_uuid": "7697570491420f957f6e4d3569d51410b5277250",
    "pycharm": {}
   },
   "source": []
  },
  {
   "cell_type": "code",
   "execution_count": 15,
   "metadata": {
    "pycharm": {}
   },
   "outputs": [
    {
     "data": {
      "text/plain": [
       "\"\\nmodel = Sequential()                                 \\nmodel.add(SimpleRNN(128,activation='tanh',return_sequences=True,input_shape =input_shape))#reRNN 里面的input shaple中 time_step 和 dim 以及 \\n#feature_nm跟我们的图像怎么对应起来\\nmodel.add(Dropout(0.3))            \\nmodel.add(SimpleRNN(128))\\nmodel.add(Dropout(0.2))\\nmodel.add(Dense(10,activation='softmax'))\\n\""
      ]
     },
     "execution_count": 15,
     "metadata": {},
     "output_type": "execute_result"
    }
   ],
   "source": [
    "#####  填写 batch_size epoch 请根据traindata 总量填写合适的值 ####\n",
    "##### 我们的分配数量num_classes,提示 我们的任务是手写体0-9的识别 ####### \n",
    "\n",
    "batch_size = 32\n",
    "num_classes = 10\n",
    "epochs = 20\n",
    "\n",
    "input_shape = (28,28,1)\n",
    "\n",
    "#构建CNN 模型 这里我们利用Sequential 序列累加 ######\n",
    "model = Sequential()\n",
    "## 第一个 卷积层 32个kernel kernel大小3*3 输出的激活函数relu kernel利用 He-正态分布 生成  ####\n",
    "model.add(Conv2D(32, kernel_size=(3, 3),activation='relu',kernel_initializer='he_normal',input_shape=input_shape))\n",
    "#model.add(Conv2D(16, kernel_size=(6, 6),activation='relu',kernel_initializer='he_normal',input_shape=input_shape))\n",
    "###  请自行构建第二个卷积层，此时kernel的初始尝试用全零初始/全1初始/正态初始\n",
    "model.add(Conv2D(32, kernel_size=(3, 3),activation='relu',kernel_initializer='he_normal'))\n",
    "### 构建一个最大池化层 \n",
    "model.add(MaxPool2D((2, 2),strides=2))\n",
    "\n",
    "model.add(Dropout(0.20))\n",
    "###  在下述卷积层内 构建一个padding, 在之后构建一个kernel size = 2 *2 的池化层 \n",
    "model.add(Conv2D(64, (3, 3), activation='relu',padding='same',kernel_initializer='he_normal'))\n",
    "model.add(MaxPool2D(pool_size=(2, 2)))\n",
    "\n",
    "model.add(Dropout(0.25))\n",
    "model.add(Flatten())\n",
    "###  构建一个全联接 其中包含128个神经元 并使用relu激活函数\n",
    "\n",
    "\n",
    "model.add(Dense(128, activation='relu'))\n",
    "model.add(BatchNormalization())\n",
    "\n",
    "model.add(Dropout(0.25))\n",
    "\n",
    "###  构建一个全联接，该全联接需要用特定的激活函数和适当的神经元个数 来实现我们的分类目标  提示：我们有多少个标签？什么激活适合最后的输出？\n",
    "model.add(Dense(num_classes, activation='softmax'))\n",
    "\n",
    "'''\n",
    "model = Sequential()                                 \n",
    "model.add(SimpleRNN(128,activation='tanh',return_sequences=True,input_shape =input_shape))#reRNN 里面的input shaple中 time_step 和 dim 以及 \n",
    "#feature_nm跟我们的图像怎么对应起来\n",
    "model.add(Dropout(0.3))            \n",
    "model.add(SimpleRNN(128))\n",
    "model.add(Dropout(0.2))\n",
    "model.add(Dense(10,activation='softmax'))\n",
    "'''"
   ]
  },
  {
   "cell_type": "code",
   "execution_count": 16,
   "metadata": {
    "_cell_guid": "a4c55409-6a65-400a-b5e8-a1dc535429c0",
    "_execution_state": "idle",
    "_uuid": "420c704367b397b8255fefe9d882b35ac8929b95",
    "pycharm": {}
   },
   "outputs": [
    {
     "name": "stdout",
     "output_type": "stream",
     "text": [
      "Model: \"sequential_1\"\n",
      "_________________________________________________________________\n",
      "Layer (type)                 Output Shape              Param #   \n",
      "=================================================================\n",
      "conv2d_1 (Conv2D)            (None, 26, 26, 32)        320       \n",
      "_________________________________________________________________\n",
      "conv2d_2 (Conv2D)            (None, 24, 24, 32)        9248      \n",
      "_________________________________________________________________\n",
      "max_pooling2d (MaxPooling2D) (None, 12, 12, 32)        0         \n",
      "_________________________________________________________________\n",
      "dropout (Dropout)            (None, 12, 12, 32)        0         \n",
      "_________________________________________________________________\n",
      "conv2d_3 (Conv2D)            (None, 12, 12, 64)        18496     \n",
      "_________________________________________________________________\n",
      "max_pooling2d_1 (MaxPooling2 (None, 6, 6, 64)          0         \n",
      "_________________________________________________________________\n",
      "dropout_1 (Dropout)          (None, 6, 6, 64)          0         \n",
      "_________________________________________________________________\n",
      "flatten (Flatten)            (None, 2304)              0         \n",
      "_________________________________________________________________\n",
      "dense (Dense)                (None, 128)               295040    \n",
      "_________________________________________________________________\n",
      "batch_normalization (BatchNo (None, 128)               512       \n",
      "_________________________________________________________________\n",
      "dropout_2 (Dropout)          (None, 128)               0         \n",
      "_________________________________________________________________\n",
      "dense_1 (Dense)              (None, 10)                1290      \n",
      "=================================================================\n",
      "Total params: 324,906\n",
      "Trainable params: 324,650\n",
      "Non-trainable params: 256\n",
      "_________________________________________________________________\n"
     ]
    }
   ],
   "source": [
    "### 运行model.summary（）回答下列问题 第二天课上一起讨论 ####\n",
    "### 能否画出这个模型的概括图?  >>>\n",
    "\n",
    "### 这个模型有几个卷积层？ 3\n",
    "### 这个模型最大的参数量是哪一层？full - connection\n",
    "### 第一层卷积层为什么有320个实际变量需要调节       32 * 9 + 32 * 1 (W,bias)  y=wx+b\n",
    "\n",
    "\n",
    "#最后一层 max——pooling完 有64个6*6 feature maps 64*6*6 = 2304\n",
    "\n",
    "### para = 2304*128 + 128 #128个w,b\n",
    "\n",
    "model.summary()"
   ]
  },
  {
   "cell_type": "code",
   "execution_count": 14,
   "metadata": {
    "pycharm": {}
   },
   "outputs": [],
   "source": [
    "#优化器  尝试使用不同的优化器 至少以下三种\n",
    "## 中文参考 https://keras.io/zh/optimizers/\n",
    "## \n",
    "## SGD(lr=0.01, momentum=0.0, decay=0.0, nesterov=False)\n",
    "## RMSprop(lr=0.001, rho=0.9, epsilon=None, decay=0.0)\n",
    "## Adam(lr=0.001, beta_1=0.9, beta_2=0.999, epsilon=None, decay=0.0, amsgrad=False)\n",
    "#from tensorflow.keras.optimizers import Adam\n",
    "#optimizer = optimizers.SGD(lr=0.01, momentum=0.0, decay=0.0, nesterov=False)\n",
    "optimizer = optimizers.RMSprop(lr=0.001, rho=0.9, epsilon=None, decay=0.0)\n",
    "#optimizer = Adam(lr=0.001, beta_1=0.9, beta_2=0.999, epsilon=None, decay=0.0, amsgrad=False)\n",
    "### 将模型compile 编译\n",
    "### 调节loss 参数，即loss function\n",
    "### mean_squared_error\n",
    "### categorical_crossentropy/为什么不用binary_crossentropy\n",
    "### mean_absolute_error \n",
    "#model.compile(optimizer = optimizer,loss = 'categorical_crossentropy', metrics=[\"accuracy\"])\n",
    "model.compile(optimizer = optimizer,loss = 'binary_crossentropy', metrics=[\"accuracy\"])\n",
    "### training 过程中的 自动调节函数\n",
    "### Reduce LR On Plateau = 减少学习率，当某一个参数达到一个平台期 自动的 把上面优化器中的 lr 减小\n",
    "\n",
    "learning_rate_reduction = ReduceLROnPlateau(monitor='val_acc', \n",
    "                                            patience=3, \n",
    "                                            verbose=1, \n",
    "                                            factor=0.5, \n",
    "                                            min_lr=0.00001)\n",
    "#当‘val_acc’到达一定值时，把上述的"
   ]
  },
  {
   "cell_type": "code",
   "execution_count": 16,
   "metadata": {
    "pycharm": {}
   },
   "outputs": [
    {
     "name": "stdout",
     "output_type": "stream",
     "text": [
      "Train on 3780 samples, validate on 420 samples\n",
      "Epoch 1/20\n",
      "3780/3780 [==============================] - 1s 211us/sample - loss: 0.0073 - accuracy: 0.9980 - val_loss: 0.0501 - val_accuracy: 0.9879\n",
      "Epoch 2/20\n",
      "3780/3780 [==============================] - 1s 210us/sample - loss: 0.0067 - accuracy: 0.9980 - val_loss: 0.0579 - val_accuracy: 0.9871\n",
      "Epoch 3/20\n",
      "3780/3780 [==============================] - 1s 212us/sample - loss: 0.0072 - accuracy: 0.9974 - val_loss: 0.0539 - val_accuracy: 0.9907\n",
      "Epoch 4/20\n",
      "3780/3780 [==============================] - 1s 208us/sample - loss: 0.0087 - accuracy: 0.9978 - val_loss: 0.0653 - val_accuracy: 0.9890\n",
      "Epoch 5/20\n",
      "3780/3780 [==============================] - 1s 207us/sample - loss: 0.0088 - accuracy: 0.9976 - val_loss: 0.0486 - val_accuracy: 0.9898\n",
      "Epoch 6/20\n",
      "3780/3780 [==============================] - 1s 207us/sample - loss: 0.0064 - accuracy: 0.9980 - val_loss: 0.0870 - val_accuracy: 0.9852\n",
      "Epoch 7/20\n",
      "3780/3780 [==============================] - 1s 207us/sample - loss: 0.0066 - accuracy: 0.9978 - val_loss: 0.0640 - val_accuracy: 0.9871\n",
      "Epoch 8/20\n",
      "3780/3780 [==============================] - 1s 208us/sample - loss: 0.0048 - accuracy: 0.9984 - val_loss: 0.0634 - val_accuracy: 0.9852\n",
      "Epoch 9/20\n",
      "3780/3780 [==============================] - 1s 208us/sample - loss: 0.0070 - accuracy: 0.9976 - val_loss: 0.0629 - val_accuracy: 0.9867\n",
      "Epoch 10/20\n",
      "3780/3780 [==============================] - 1s 207us/sample - loss: 0.0077 - accuracy: 0.9978 - val_loss: 0.0648 - val_accuracy: 0.9869\n",
      "Epoch 11/20\n",
      "3780/3780 [==============================] - 1s 208us/sample - loss: 0.0053 - accuracy: 0.9980 - val_loss: 0.0531 - val_accuracy: 0.9879\n",
      "Epoch 12/20\n",
      "3780/3780 [==============================] - 1s 207us/sample - loss: 0.0066 - accuracy: 0.9980 - val_loss: 0.1386 - val_accuracy: 0.9760\n",
      "Epoch 13/20\n",
      "3780/3780 [==============================] - 1s 209us/sample - loss: 0.0082 - accuracy: 0.9979 - val_loss: 0.1006 - val_accuracy: 0.9802\n",
      "Epoch 14/20\n",
      "3780/3780 [==============================] - 1s 207us/sample - loss: 0.0077 - accuracy: 0.9978 - val_loss: 0.0602 - val_accuracy: 0.9871\n",
      "Epoch 15/20\n",
      "3780/3780 [==============================] - 1s 208us/sample - loss: 0.0080 - accuracy: 0.9979 - val_loss: 0.0931 - val_accuracy: 0.9810\n",
      "Epoch 16/20\n",
      "3780/3780 [==============================] - 1s 210us/sample - loss: 0.0062 - accuracy: 0.9979 - val_loss: 0.0528 - val_accuracy: 0.9905\n",
      "Epoch 17/20\n",
      "3780/3780 [==============================] - 1s 208us/sample - loss: 0.0074 - accuracy: 0.9978 - val_loss: 0.0647 - val_accuracy: 0.9871\n",
      "Epoch 18/20\n",
      "3780/3780 [==============================] - 1s 208us/sample - loss: 0.0097 - accuracy: 0.9973 - val_loss: 0.0563 - val_accuracy: 0.9881\n",
      "Epoch 19/20\n",
      "3780/3780 [==============================] - 1s 208us/sample - loss: 0.0076 - accuracy: 0.9979 - val_loss: 0.0598 - val_accuracy: 0.9855\n",
      "Epoch 20/20\n",
      "3780/3780 [==============================] - 1s 209us/sample - loss: 0.0083 - accuracy: 0.9972 - val_loss: 0.0566 - val_accuracy: 0.9871\n"
     ]
    }
   ],
   "source": [
    "# 训练模型 注意填写缺失参数 记得用变量形式填写\n",
    "history = model.fit(X_train,Y_train, batch_size = 50,\n",
    "                              epochs = 20 , validation_data = (X_val,Y_val))\n",
    "#sgd 0.84\n",
    "#rms 0.97\n",
    "# adma 0.96\n",
    "\n",
    "\n",
    "\n",
    "#history = model.fit(X_train,Y_train, batch_size=batch_size,\n",
    "                              #epochs = epochs, validation_data = (X_val,Y_val))\n"
   ]
  },
  {
   "cell_type": "code",
   "execution_count": 17,
   "metadata": {
    "pycharm": {}
   },
   "outputs": [
    {
     "data": {
      "image/png": "[encoded data removed]",
      "text/plain": [
       "<Figure size 432x288 with 2 Axes>"
      ]
     },
     "metadata": {
      "needs_background": "light"
     },
     "output_type": "display_data"
    }
   ],
   "source": [
    "# 生成学习曲线 和损失函数 随着epoch的变化曲线\n",
    "# 模型的学习效果怎么样？ 能找到适合的epoch吗？\n",
    "# 简单的评价标准应该用什么？\n",
    "# 尝试改变模型参数 生成不同的学习曲线 比较\n",
    "# 提示 从epoch>优化器>损失函数>学习率>dropout有无 依次调试 \n",
    "fig, ax = plt.subplots(2,1)\n",
    "\n",
    "ax[0].plot(history.history['loss'], color='b', label=\"Training loss\")\n",
    "ax[0].plot(history.history['val_loss'], color='r', label=\"validation loss\",axes =ax[0])\n",
    "legend = ax[0].legend(loc='best', shadow=True)\n",
    "\n",
    "ax[1].plot(history.history['accuracy'], color='b', label=\"Training accuracy\")\n",
    "ax[1].plot(history.history['val_accuracy'], color='r',label=\"Validation accuracy\")\n",
    "legend = ax[1].legend(loc='best', shadow=True)"
   ]
  },
  {
   "cell_type": "code",
   "execution_count": 18,
   "metadata": {
    "pycharm": {}
   },
   "outputs": [
    {
     "data": {
      "image/png": "[encoded data removed]",
      "text/plain": [
       "<Figure size 432x288 with 2 Axes>"
      ]
     },
     "metadata": {
      "needs_background": "light"
     },
     "output_type": "display_data"
    }
   ],
   "source": [
    "# 生成10标签混淆矩阵\n",
    "\n",
    "def plot_confusion_matrix(cm, classes,\n",
    "                          normalize=False,\n",
    "                          title='Confusion matrix',\n",
    "                          cmap=plt.cm.Blues):\n",
    "    \"\"\"\n",
    "    This function prints and plots the confusion matrix.\n",
    "    Normalization can be applied by setting `normalize=True`.\n",
    "    \"\"\"\n",
    "    plt.imshow(cm, interpolation='nearest', cmap=cmap)\n",
    "    plt.title(title)\n",
    "    plt.colorbar()\n",
    "    tick_marks = np.arange(len(classes))\n",
    "    plt.xticks(tick_marks, classes, rotation=45)\n",
    "    plt.yticks(tick_marks, classes)\n",
    "\n",
    "    if normalize:\n",
    "        cm = cm.astype('float') / cm.sum(axis=1)[:, np.newaxis]\n",
    "\n",
    "    thresh = cm.max() / 2.\n",
    "    for i, j in itertools.product(range(cm.shape[0]), range(cm.shape[1])):\n",
    "        plt.text(j, i, cm[i, j],\n",
    "                 horizontalalignment=\"center\",\n",
    "                 color=\"white\" if cm[i, j] > thresh else \"black\")\n",
    "\n",
    "    plt.tight_layout()\n",
    "    plt.ylabel('True label')\n",
    "    plt.xlabel('Predicted label')\n",
    "\n",
    "# Predict the values from the validation dataset\n",
    "Y_pred = model.predict(X_val)\n",
    "# Convert predictions classes to one hot vectors \n",
    "Y_pred_classes = np.argmax(Y_pred,axis = 1) \n",
    "# Convert validation observations to one hot vectors\n",
    "Y_true = np.argmax(Y_val,axis = 1) \n",
    "# compute the confusion matrix\n",
    "confusion_mtx = confusion_matrix(Y_true, Y_pred_classes) \n",
    "# plot the confusion matrix\n",
    "plot_confusion_matrix(confusion_mtx, classes = range(10)) "
   ]
  },
  {
   "cell_type": "code",
   "execution_count": 19,
   "metadata": {
    "pycharm": {}
   },
   "outputs": [
    {
     "data": {
      "image/png": "[encoded data removed]",
      "text/plain": [
       "<Figure size 432x288 with 9 Axes>"
      ]
     },
     "metadata": {
      "needs_background": "light"
     },
     "output_type": "display_data"
    }
   ],
   "source": [
    "### 打印出认错的数字\n",
    "\n",
    "errors = (Y_pred_classes - Y_true != 0)\n",
    "\n",
    "Y_pred_classes_errors = Y_pred_classes[errors]\n",
    "Y_pred_errors = Y_pred[errors]\n",
    "Y_true_errors = Y_true[errors]\n",
    "X_val_errors = X_val[errors]\n",
    "\n",
    "def display_errors(errors_index,img_errors,pred_errors, obs_errors):\n",
    "    \"\"\" This function shows 6 images with their predicted and real labels\"\"\"\n",
    "    n = 0\n",
    "    nrows = 3\n",
    "    ncols = 3\n",
    "    fig, ax = plt.subplots(nrows,ncols,sharex=True,sharey=True)\n",
    "    for row in range(nrows):\n",
    "        for col in range(ncols):\n",
    "            error = errors_index[n]\n",
    "            ax[row,col].imshow((img_errors[error]).reshape((28,28)))\n",
    "            ax[row,col].set_title(\"Predicted label :{}\\nTrue label :{}\".format(pred_errors[error],obs_errors[error]))\n",
    "            n += 1\n",
    "\n",
    "# Probabilities of the wrong predicted numbers\n",
    "Y_pred_errors_prob = np.max(Y_pred_errors,axis = 1)\n",
    "\n",
    "# Predicted probabilities of the true values in the error set\n",
    "true_prob_errors = np.diagonal(np.take(Y_pred_errors, Y_true_errors, axis=1))\n",
    "\n",
    "# Difference between the probability of the predicted label and the true label\n",
    "delta_pred_true_errors = Y_pred_errors_prob - true_prob_errors\n",
    "\n",
    "# Sorted list of the delta prob errors\n",
    "sorted_dela_errors = np.argsort(delta_pred_true_errors)\n",
    "\n",
    "# Top 9 errors \n",
    "most_important_errors = sorted_dela_errors[-9:]\n",
    "\n",
    "# Show the top 9 errors\n",
    "display_errors(most_important_errors, X_val_errors, Y_pred_classes_errors, Y_true_errors)"
   ]
  },
  {
   "cell_type": "code",
   "execution_count": 20,
   "metadata": {
    "pycharm": {}
   },
   "outputs": [],
   "source": [
    "#optional 计算每个标签的tpr fpr\n",
    "from sklearn.metrics import roc_curve, auc\n",
    "fpr = dict()\n",
    "tpr = dict()\n",
    "roc_auc = dict()\n",
    "y_score = model.predict(X_test)\n",
    "#print(type(y_score))\n",
    "#print(type(X_test))\n",
    "#df1=pd.DataFrame(X_test)\n",
    "#df2=pd.DataFrame(y_score)\n",
    "for i in range(num_classes):\n",
    "     fpr[i], tpr[i], _ = roc_curve(Y_test[:,i],y_score[:,i])\n",
    "                         #roc_curve(y_test.iloc[:,i],y_score.iloc[:,i]) \n",
    "    # AUC Area Under the Curve\n",
    "     roc_auc[i] = auc(fpr[i], tpr[i])\n"
   ]
  },
  {
   "cell_type": "code",
   "execution_count": 21,
   "metadata": {
    "pycharm": {}
   },
   "outputs": [
    {
     "data": {
      "image/png": "[encoded data removed]",
      "text/plain": [
       "<Figure size 432x288 with 1 Axes>"
      ]
     },
     "metadata": {
      "needs_background": "light"
     },
     "output_type": "display_data"
    }
   ],
   "source": [
    "#画出ROC\n",
    "for i in range(num_classes):\n",
    "    plt.plot(fpr[i],tpr[i],\n",
    "            label='ROW of the number{}(area={:0.2f})'.format(i,roc_auc[i]))\n",
    "    #label='ROC curve of class {0} (area = {1:0.2f})'''''''.format(i, roc_auc[i]))\n",
    "\n",
    "plt.plot([0, 1], [0, 1], 'k--', lw=2)\n",
    "plt.xlim([0.0, 1.0])\n",
    "plt.ylim([0.0, 1.05])\n",
    "plt.xlabel('False Positive Rate')\n",
    "plt.ylabel('True Positive Rate')\n",
    "plt.title('Some extension of Receiver operating characteristic to multi-class')\n",
    "plt.legend(loc=\"lower right\")\n",
    "plt.show()"
   ]
  },
  {
   "cell_type": "code",
   "execution_count": 22,
   "metadata": {
    "pycharm": {}
   },
   "outputs": [],
   "source": [
    "#from keras.utils import plot_model\n",
    "# 打印出模型图片 尝试自己改动模型 \n",
    "#plot_model(model, to_file='model.png', show_shapes=True)"
   ]
  },
  {
   "cell_type": "code",
   "execution_count": 54,
   "metadata": {
    "pycharm": {}
   },
   "outputs": [],
   "source": [
    "#from keras.layers import SimpleRNN\n",
    "# 利用RNN 实现上述图片分类 该模型有2层RNN 回馈网络,输出维度选择128\n",
    "\n",
    "# https://keras-zh.readthedocs.io/layers/recurrent/\n",
    "\n",
    "# keras.layers.SimpleRNN(units, activation='tanh', use_bias=True, kernel_initializer='glorot_uniform', \n",
    "# recurrent_initializer='orthogonal', bias_initializer='zeros', kernel_regularizer=None, recurrent_regularizer=None,\n",
    "# bias_regularizer=None, activity_regularizer=None, kernel_constraint=None, recurrent_constraint=None,\n",
    "# bias_constraint=None, dropout=0.0, recurrent_dropout=0.0, return_sequences=False, return_state=False, \n",
    "# go_backwards=False, stateful=False, unroll=False)\n",
    "\n",
    "\n",
    "model = Sequential()                                 \n",
    "model.add(SimpleRNN(128,activation='tanh',return_sequences=True,input_shape =(28,28)))#reRNN 里面的input shaple中 time_step 和 dim 以及 \n",
    "#feature_nm跟我们的图像怎么对应起来\n",
    "model.add(Dropout(0.3))            \n",
    "model.add(SimpleRNN(128))\n",
    "model.add(Dropout(0.2))\n",
    "model.add(Dense(10,activation='softmax'))\n",
    "\n",
    "\n",
    "#将模型构建好以后 放回最上面的模型构建区域，或者重命名模型，执行训练和评估\n",
    "#RNN 和 CNN哪个更好？\n",
    "# 较难：思考一下model.summary（）下 参数数量的计算"
   ]
  },
  {
   "cell_type": "code",
   "execution_count": 55,
   "metadata": {
    "pycharm": {}
   },
   "outputs": [
    {
     "name": "stdout",
     "output_type": "stream",
     "text": [
      "Model: \"sequential_16\"\n",
      "_________________________________________________________________\n",
      "Layer (type)                 Output Shape              Param #   \n",
      "=================================================================\n",
      "simple_rnn_21 (SimpleRNN)    (None, 28, 128)           20096     \n",
      "_________________________________________________________________\n",
      "dropout_18 (Dropout)         (None, 28, 128)           0         \n",
      "_________________________________________________________________\n",
      "simple_rnn_22 (SimpleRNN)    (None, 128)               32896     \n",
      "_________________________________________________________________\n",
      "dropout_19 (Dropout)         (None, 128)               0         \n",
      "_________________________________________________________________\n",
      "dense_9 (Dense)              (None, 10)                1290      \n",
      "=================================================================\n",
      "Total params: 54,282\n",
      "Trainable params: 54,282\n",
      "Non-trainable params: 0\n",
      "_________________________________________________________________\n"
     ]
    }
   ],
   "source": [
    "model.summary()"
   ]
  },
  {
   "cell_type": "code",
   "execution_count": null,
   "metadata": {
    "pycharm": {}
   },
   "outputs": [],
   "source": []
  },
  {
   "cell_type": "code",
   "execution_count": null,
   "metadata": {
    "pycharm": {}
   },
   "outputs": [],
   "source": []
  },
  {
   "cell_type": "code",
   "execution_count": null,
   "metadata": {
    "pycharm": {}
   },
   "outputs": [],
   "source": []
  }
 ],
 "metadata": {
  "kernelspec": {
   "display_name": "Python 3",
   "language": "python",
   "name": "python3"
  },
  "language_info": {
   "codemirror_mode": {
    "name": "ipython",
    "version": 3
   },
   "file_extension": ".py",
   "mimetype": "text/x-python",
   "name": "python",
   "nbconvert_exporter": "python",
   "pygments_lexer": "ipython3",
   "version": "3.6.5"
  }
 },
 "nbformat": 4,
 "nbformat_minor": 2
}
