{
 "cells": [
  {
   "cell_type": "code",
   "execution_count": 16,
   "metadata": {},
   "outputs": [],
   "source": [
    "import numpy as np\n",
    "#\n",
    "#1、创建一个长度为10的一维全为0的ndarray对象，然后让第5个元素等于1。"
   ]
  },
  {
   "cell_type": "code",
   "execution_count": 17,
   "metadata": {},
   "outputs": [
    {
     "name": "stdout",
     "output_type": "stream",
     "text": [
      "[0. 0. 0. 0. 0. 0. 0. 0. 0. 0.]\n",
      "[0. 0. 0. 0. 1. 0. 0. 0. 0. 0.]\n"
     ]
    }
   ],
   "source": [
    "a = np.zeros(10)\n",
    "print(a)\n",
    "a[4] = 1\n",
    "print(a)"
   ]
  },
  {
   "cell_type": "code",
   "execution_count": 18,
   "metadata": {},
   "outputs": [],
   "source": [
    "#2. 创建一个5*3随机矩阵和一个3*2随机矩阵，求矩阵积。"
   ]
  },
  {
   "cell_type": "code",
   "execution_count": 19,
   "metadata": {},
   "outputs": [
    {
     "name": "stdout",
     "output_type": "stream",
     "text": [
      "[[0.17816988 0.77248656 0.58042965]\n",
      " [0.91224072 0.53573234 0.98532654]\n",
      " [0.08079788 0.84430616 0.35957268]\n",
      " [0.1806634  0.41086631 0.53407243]\n",
      " [0.15833099 0.64258129 0.85477054]]\n",
      "-------------\n",
      "[[0.22409629 0.3565029 ]\n",
      " [0.88995248 0.52143451]\n",
      " [0.17737803 0.63049576]]\n",
      "------------\n",
      "[[0.83035901 0.83227766]\n",
      " [0.85598137 1.22581   ]\n",
      " [0.83327916 0.69576409]\n",
      " [0.50087021 0.6153773 ]\n",
      " [0.75896572 0.93043872]]\n"
     ]
    }
   ],
   "source": [
    "b = np.random.rand(5,3)\n",
    "c = np.random.rand(3,2)\n",
    "print(b)\n",
    "print(\"-------------\")\n",
    "print(c)\n",
    "print(\"------------\")\n",
    "d = np.matmul(b,c)\n",
    "print(d)\n",
    "\n"
   ]
  },
  {
   "cell_type": "code",
   "execution_count": 20,
   "metadata": {},
   "outputs": [],
   "source": [
    "#3. 实现冒泡排序法"
   ]
  },
  {
   "cell_type": "code",
   "execution_count": 21,
   "metadata": {},
   "outputs": [
    {
     "name": "stdout",
     "output_type": "stream",
     "text": [
      "输入序列的长度:19\n",
      "[0.7007069  0.73536266 0.48768733 0.32833096 0.88169468 0.03250383\n",
      " 0.10122626 0.14106241 0.87786262 0.30084279 0.01680296 0.20336934\n",
      " 0.21755756 0.5244954  0.98251528 0.71572928 0.86962703 0.87813248\n",
      " 0.82997343]\n",
      "[7 7 4 3 8 0 1 1 8 3 0 2 2 5 9 7 8 8 8]\n",
      "[7 7 4 3 8 0 1 1 8 3 0 2 2 5 9 7 8 8 8]\n"
     ]
    }
   ],
   "source": [
    "a = np.random.rand(int(input(\"输入序列的长度:\")))\n",
    "print(a)\n",
    "a = a*10\n",
    "a = np.fix(a).astype(int)\n",
    "print(a)\n",
    "temp = 0\n",
    "for i in range(0,a.size-1):   \n",
    "    for j in range(0,a.size-1-i):\n",
    "        if(a[j]>a[j+1]):  \n",
    "            temp = a[j]\n",
    "            a[j] = a[j+1]\n",
    "            a[j+1] = temp\n",
    "            a[j],a[j+1] = a[j+1],a[j]\n",
    "print(a)"
   ]
  },
  {
   "cell_type": "code",
   "execution_count": 22,
   "metadata": {},
   "outputs": [],
   "source": [
    "#4. 找到数组[1,2,0,0,4,0]中0元素的位置索引。"
   ]
  },
  {
   "cell_type": "code",
   "execution_count": 23,
   "metadata": {},
   "outputs": [
    {
     "name": "stdout",
     "output_type": "stream",
     "text": [
      "(array([2, 3, 5], dtype=int64),)\n"
     ]
    }
   ],
   "source": [
    "a = [1,2,0,0,4,0]\n",
    "a = np.array(a)\n",
    "print(np.where(a==0))\n"
   ]
  },
  {
   "cell_type": "code",
   "execution_count": 24,
   "metadata": {},
   "outputs": [],
   "source": [
    "#5. 创建一个 10x10 的随机数组并找到它的最大值和最小值 "
   ]
  },
  {
   "cell_type": "code",
   "execution_count": 25,
   "metadata": {},
   "outputs": [
    {
     "name": "stdout",
     "output_type": "stream",
     "text": [
      "[[8 8 2 9 0 4 0 4 9 7]\n",
      " [9 8 8 7 8 6 1 4 3 6]\n",
      " [0 9 1 2 3 9 6 6 0 4]\n",
      " [1 8 7 3 0 8 6 0 8 1]\n",
      " [7 5 3 9 3 7 2 8 8 5]\n",
      " [3 1 8 1 9 1 4 5 3 9]\n",
      " [0 4 9 6 2 6 2 0 3 6]\n",
      " [1 2 3 8 9 3 1 8 1 4]\n",
      " [3 5 9 1 5 4 5 6 5 4]\n",
      " [6 3 9 7 2 8 8 0 4 4]]\n",
      "---------------\n",
      "每行最大值\n",
      "[9 9 9 9 9 9 8 8 9 9]\n",
      "---------------\n",
      "每列最大值\n",
      "[9 9 9 8 9 9 9 9 9 9]\n",
      "---------------\n",
      "整个矩阵中的最大值\n",
      "---------------\n",
      "9\n"
     ]
    }
   ],
   "source": [
    "\n",
    "a = np.random.rand(10,10)*10\n",
    "a = np.fix(a).astype(int)\n",
    "print(a)\n",
    "print('---------------')\n",
    "print('每行最大值')\n",
    "print(np.max(a,0))\n",
    "print('---------------')\n",
    "print('每列最大值')\n",
    "print(np.max(a,1))\n",
    "print('---------------')\n",
    "print('整个矩阵中的最大值')\n",
    "print('---------------')\n",
    "print(np.max(a))"
   ]
  },
  {
   "cell_type": "code",
   "execution_count": 26,
   "metadata": {},
   "outputs": [],
   "source": [
    "#6. 求解方程"
   ]
  },
  {
   "cell_type": "code",
   "execution_count": 27,
   "metadata": {},
   "outputs": [
    {
     "name": "stdout",
     "output_type": "stream",
     "text": [
      "[[16.]\n",
      " [22.]]\n"
     ]
    }
   ],
   "source": [
    "a = [[3,3.2],[3.5,3.6]]\n",
    "b = [[118.4],[135.2]]\n",
    "a = np.array(a)\n",
    "a = np.linalg.inv(a)\n",
    "b = np.array(b)\n",
    "print(np.matmul(a,b))"
   ]
  },
  {
   "cell_type": "code",
   "execution_count": null,
   "metadata": {},
   "outputs": [],
   "source": []
  }
 ],
 "metadata": {
  "kernelspec": {
   "display_name": "Python 3",
   "language": "python",
   "name": "python3"
  },
  "language_info": {
   "codemirror_mode": {
    "name": "ipython",
    "version": 3
   },
   "file_extension": ".py",
   "mimetype": "text/x-python",
   "name": "python",
   "nbconvert_exporter": "python",
   "pygments_lexer": "ipython3",
   "version": "3.7.3"
  }
 },
 "nbformat": 4,
 "nbformat_minor": 2
}
