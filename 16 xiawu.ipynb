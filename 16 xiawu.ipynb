{
 "cells": [
  {
   "cell_type": "code",
   "execution_count": 5,
   "metadata": {},
   "outputs": [
    {
     "name": "stdout",
     "output_type": "stream",
     "text": [
      "[0 0 0 0 0 0 0 0 0 0]\n",
      "[0 0 0 0 1 0 0 0 0 0]\n"
     ]
    }
   ],
   "source": [
    "from numpy import*\n",
    "a=zeros(10,dtype=int)\n",
    "print(a)\n",
    "a[4]=1\n",
    "print(a)\n"
   ]
  },
  {
   "cell_type": "code",
   "execution_count": 10,
   "metadata": {},
   "outputs": [
    {
     "name": "stdout",
     "output_type": "stream",
     "text": [
      "[[6.90372910e-310 6.90372910e-310 0.00000000e+000]\n",
      " [0.00000000e+000 6.90370111e-310 5.02034658e+175]\n",
      " [8.24049932e-067 8.24023882e-067 4.08374196e-033]\n",
      " [3.99622524e+175 5.01163106e+217 5.49419094e-143]\n",
      " [9.80058441e+252 1.30304358e-142 2.14027814e+161]]\n",
      "[[6.90372910e-310 4.68039512e-310]\n",
      " [0.00000000e+000 0.00000000e+000]\n",
      " [6.90370111e-310 5.30276956e+180]]\n",
      "--------------------\n",
      "[[0.00000000e+000 0.00000000e+000]\n",
      " [3.46589722e-134             inf]\n",
      " [0.00000000e+000 2.16551426e+148]\n",
      " [2.75888565e-134 2.91344285e+038]\n",
      " [6.76605797e-057             inf]]\n"
     ]
    }
   ],
   "source": [
    "a=empty((5,3),dtype=float)\n",
    "b=empty((3,2),dtype=float)\n",
    "print(a)\n",
    "print(b)\n",
    "print('-'*20)\n",
    "print(dot(a,b))\n"
   ]
  },
  {
   "cell_type": "code",
   "execution_count": 24,
   "metadata": {},
   "outputs": [
    {
     "name": "stdout",
     "output_type": "stream",
     "text": [
      "[34, 0, 7, 20, 54, 26, 27, 30, 97, 56, 3, 10, 36, 30, 59]\n",
      "[71, 94, 51, 62, 40, 61]\n",
      "None\n"
     ]
    }
   ],
   "source": [
    "import random\n",
    "l=[]\n",
    "t=[]\n",
    "for i in range(15):\n",
    "    l.append(random.randint(0,100))\n",
    "a=print(l[0:15])\n",
    "for y in range(6):\n",
    "    t.append(random.randint(0,100))  \n",
    "b=print(t[0:6])\n",
    "del b('')\n",
    "print(b)\n",
    "    \n",
    "    \n"
   ]
  },
  {
   "cell_type": "code",
   "execution_count": 37,
   "metadata": {},
   "outputs": [
    {
     "name": "stdout",
     "output_type": "stream",
     "text": [
      "[[4], [1], [2], [7], [87], [2143], [53]]\n",
      "pai xu hou\n",
      "[[1], [2], [4], [7], [87], [53], [2143]]\n"
     ]
    }
   ],
   "source": [
    "a=([\n",
    "    [4],\n",
    "    [1],\n",
    "    [2],\n",
    "    [7],\n",
    "    [87],\n",
    "    [2143],\n",
    "    [53]\n",
    "  ])\n",
    "print(a)\n",
    "print('pai xu hou')\n",
    "for i in range(1,len(a)):\n",
    "    if a[i-1]>a[i]:\n",
    "        x=a[i-1]\n",
    "        y=a[i]\n",
    "        a[i-1]=y\n",
    "        a[i]=x\n",
    "    else:\n",
    "        continue\n",
    "print(a)    \n",
    "    "
   ]
  },
  {
   "cell_type": "code",
   "execution_count": 40,
   "metadata": {},
   "outputs": [
    {
     "name": "stdout",
     "output_type": "stream",
     "text": [
      "[[0 1 2 3 4]\n",
      " [5 6 7 8 9]]\n",
      "0\n",
      "1\n",
      "2\n",
      "3\n",
      "4\n",
      "5\n",
      "6\n",
      "7\n",
      "8\n",
      "9\n",
      "[0, 1, 2, 3, 4, 5, 6, 7, 8, 9]\n"
     ]
    },
    {
     "data": {
      "text/plain": [
       "3"
      ]
     },
     "execution_count": 40,
     "metadata": {},
     "output_type": "execute_result"
    }
   ],
   "source": [
    "a=arange(10).reshape(2,5)\n",
    "print(a)\n",
    "for i in a.flat:\n",
    "    print(i)\n",
    "print(list(a.flat))\n",
    "a.flat[3]"
   ]
  },
  {
   "cell_type": "code",
   "execution_count": 111,
   "metadata": {},
   "outputs": [
    {
     "name": "stdout",
     "output_type": "stream",
     "text": [
      "[[4], [1], [2], [7], [87], [2143], [53]]\n",
      "pai xu hou\n"
     ]
    },
    {
     "ename": "TypeError",
     "evalue": "'list' object cannot be interpreted as an integer",
     "output_type": "error",
     "traceback": [
      "\u001b[0;31m---------------------------------------------------------------------------\u001b[0m",
      "\u001b[0;31mTypeError\u001b[0m                                 Traceback (most recent call last)",
      "\u001b[0;32m<ipython-input-111-c8faa09c1b8b>\u001b[0m in \u001b[0;36m<module>\u001b[0;34m\u001b[0m\n\u001b[1;32m     18\u001b[0m         \u001b[0ma\u001b[0m\u001b[0;34m[\u001b[0m\u001b[0mi\u001b[0m\u001b[0;34m]\u001b[0m\u001b[0;34m=\u001b[0m\u001b[0mx\u001b[0m\u001b[0;34m\u001b[0m\u001b[0;34m\u001b[0m\u001b[0m\n\u001b[1;32m     19\u001b[0m print(a) '''  \n\u001b[0;32m---> 20\u001b[0;31m \u001b[0;32mfor\u001b[0m \u001b[0mi\u001b[0m \u001b[0;32min\u001b[0m \u001b[0mrange\u001b[0m\u001b[0;34m(\u001b[0m\u001b[0ma\u001b[0m\u001b[0;34m)\u001b[0m\u001b[0;34m:\u001b[0m\u001b[0;34m\u001b[0m\u001b[0;34m\u001b[0m\u001b[0m\n\u001b[0m\u001b[1;32m     21\u001b[0m     \u001b[0;32mfor\u001b[0m \u001b[0mj\u001b[0m \u001b[0;32min\u001b[0m \u001b[0mrange\u001b[0m\u001b[0;34m(\u001b[0m\u001b[0;36m0\u001b[0m\u001b[0;34m,\u001b[0m\u001b[0mn\u001b[0m\u001b[0;34m-\u001b[0m\u001b[0mi\u001b[0m\u001b[0;34m-\u001b[0m\u001b[0;36m1\u001b[0m\u001b[0;34m)\u001b[0m\u001b[0;34m:\u001b[0m\u001b[0;34m\u001b[0m\u001b[0;34m\u001b[0m\u001b[0m\n\u001b[1;32m     22\u001b[0m         \u001b[0;32mif\u001b[0m \u001b[0ma\u001b[0m\u001b[0;34m[\u001b[0m\u001b[0mj\u001b[0m\u001b[0;34m]\u001b[0m\u001b[0;34m>\u001b[0m\u001b[0ma\u001b[0m\u001b[0;34m[\u001b[0m\u001b[0mj\u001b[0m\u001b[0;34m+\u001b[0m\u001b[0;36m1\u001b[0m\u001b[0;34m]\u001b[0m\u001b[0;34m:\u001b[0m\u001b[0;34m\u001b[0m\u001b[0;34m\u001b[0m\u001b[0m\n",
      "\u001b[0;31mTypeError\u001b[0m: 'list' object cannot be interpreted as an integer"
     ]
    }
   ],
   "source": [
    "a=([\n",
    "    [4],\n",
    "    [1],\n",
    "    [2],\n",
    "    [7],\n",
    "    [87],\n",
    "    [2143],\n",
    "    [53]\n",
    "  ])\n",
    "print(a)\n",
    "print('pai xu hou')\n",
    "'''print(len(a))\n",
    "for i in range(1,7):\n",
    "    if a[i-1]>a[i]:\n",
    "        x=a[i-1]\n",
    "        y=a[i]\n",
    "        a[i-1]=y\n",
    "        a[i]=x\n",
    "print(a) '''  \n",
    "for i in range(a):\n",
    "    for j in range(0,n-i-1):\n",
    "        if a[j]>a[j+1]:\n",
    "            a[j],a[j+1]=a[j+1],a[j]\n",
    "print(a)\n"
   ]
  },
  {
   "cell_type": "code",
   "execution_count": 52,
   "metadata": {},
   "outputs": [
    {
     "name": "stdout",
     "output_type": "stream",
     "text": [
      "[1, 2, 0, 0, 4, 0]\n",
      "o place was  3\n",
      "o place was  4\n",
      "o place was  6\n"
     ]
    }
   ],
   "source": [
    "a=([1,2,0,0,4,0])\n",
    "print(a)\n",
    "flag=0\n",
    "for i in a:\n",
    "    flag+=1\n",
    "    if i==0:\n",
    "        print('o place was ',flag)\n",
    "        "
   ]
  },
  {
   "cell_type": "code",
   "execution_count": 79,
   "metadata": {},
   "outputs": [
    {
     "name": "stdout",
     "output_type": "stream",
     "text": [
      "********************\n",
      "[[ 86  53  88  56  73  39   3  13  12  86]\n",
      " [ 93   5  19  79  56  52  97  19  85 100]\n",
      " [ 51  97   5  71  50  82  77  21  34  61]\n",
      " [ 47  71  97  77  94  72   1  57  67  44]\n",
      " [ 18  60  19  43  52   1  38  88  65  47]\n",
      " [ 75  19  64  76  43  99  71  79  55  51]\n",
      " [ 66  29   1  44  48  95  75  74  69  21]\n",
      " [ 81  31  50  10  77  32  39  75   2  67]\n",
      " [ 73   5  39  74  29  39  19  51  24  44]\n",
      " [ 87  63  90  96  45  13  57  86  95  99]]\n"
     ]
    }
   ],
   "source": [
    "\n",
    "a=empty([10,10],dtype=int)\n",
    "\n",
    "for t in range(10):\n",
    "    for z in range(10):\n",
    "        i=random.randint(0,100)\n",
    "        a[t,z]=i\n",
    "print('*'*20)\n",
    "print(a)\n"
   ]
  },
  {
   "cell_type": "code",
   "execution_count": 101,
   "metadata": {},
   "outputs": [
    {
     "ename": "NameError",
     "evalue": "name 'hs' is not defined",
     "output_type": "error",
     "traceback": [
      "\u001b[0;31m---------------------------------------------------------------------------\u001b[0m",
      "\u001b[0;31mNameError\u001b[0m                                 Traceback (most recent call last)",
      "\u001b[0;32m<ipython-input-101-28cb07b97d23>\u001b[0m in \u001b[0;36m<module>\u001b[0;34m\u001b[0m\n\u001b[1;32m     11\u001b[0m             \u001b[0;32mreturn\u001b[0m \u001b[0mprint\u001b[0m\u001b[0;34m(\u001b[0m\u001b[0;34m'no find'\u001b[0m\u001b[0;34m)\u001b[0m\u001b[0;34m\u001b[0m\u001b[0;34m\u001b[0m\u001b[0m\n\u001b[1;32m     12\u001b[0m \u001b[0md\u001b[0m\u001b[0;34m=\u001b[0m\u001b[0mdic\u001b[0m\u001b[0;34m(\u001b[0m\u001b[0;34m)\u001b[0m\u001b[0;34m\u001b[0m\u001b[0;34m\u001b[0m\u001b[0m\n\u001b[0;32m---> 13\u001b[0;31m \u001b[0mprint\u001b[0m\u001b[0;34m(\u001b[0m\u001b[0md\u001b[0m\u001b[0;34m.\u001b[0m\u001b[0mserocah\u001b[0m\u001b[0;34m[\u001b[0m\u001b[0mhs\u001b[0m\u001b[0;34m]\u001b[0m\u001b[0;34m)\u001b[0m\u001b[0;34m\u001b[0m\u001b[0;34m\u001b[0m\u001b[0m\n\u001b[0m",
      "\u001b[0;31mNameError\u001b[0m: name 'hs' is not defined"
     ]
    }
   ],
   "source": [
    "dict={}\n",
    "class dic():\n",
    "    #def measage(self,name,phone,emila,place):\n",
    "        #dict.update((name,phone,emila ,place))\n",
    "    def delete(self,name):\n",
    "        del dict[name]\n",
    "    def serocah(self,name):\n",
    "        if name in dict:\n",
    "            return print(dict[name])\n",
    "        else:\n",
    "            return print('no find')\n",
    "d=dic()\n",
    "print(d.serocah[hs])\n"
   ]
  },
  {
   "cell_type": "code",
   "execution_count": null,
   "metadata": {},
   "outputs": [],
   "source": []
  }
 ],
 "metadata": {
  "kernelspec": {
   "display_name": "Python 3",
   "language": "python",
   "name": "python3"
  },
  "language_info": {
   "codemirror_mode": {
    "name": "ipython",
    "version": 3
   },
   "file_extension": ".py",
   "mimetype": "text/x-python",
   "name": "python",
   "nbconvert_exporter": "python",
   "pygments_lexer": "ipython3",
   "version": "3.6.5"
  }
 },
 "nbformat": 4,
 "nbformat_minor": 2
}
